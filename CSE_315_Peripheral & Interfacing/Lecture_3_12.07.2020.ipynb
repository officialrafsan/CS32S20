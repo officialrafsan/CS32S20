{
 "cells": [
  {
   "cell_type": "markdown",
   "metadata": {},
   "source": [
    "<div class=\"alert alert-success\">\n",
    "    <b>Author</b>:\n",
    "\n",
    "      Rashik Rahman\n",
    "      17201012@uap-bd.edu\n",
    "\n",
    "</div>"
   ]
  },
  {
   "cell_type": "markdown",
   "metadata": {},
   "source": [
    "# [Video Link](https://photos.app.goo.gl/eMNiEAUHJHSURmc96)<br>\n",
    "# [Reference_Documentation](https://www.arduino.cc/reference/en/)"
   ]
  },
  {
   "attachments": {
    "image.png": {
     "image/png": "[encoded data removed]"
    }
   },
   "cell_type": "markdown",
   "metadata": {},
   "source": [
    "Scope specifies the accessibility of a variable. That is it defines how much a variable can have permission. There are 3 types of scope listed below.\n",
    "\n",
    "![image.png](figures/fig171.PNG)\n",
    "\n",
    "Global scope/variable is declared above the void and it's accessible throughout the whole code and we can use it anywhere we want. \n",
    "\n",
    "![image.png](figures/fig172.PNG)\n",
    "\n",
    "Formal scopes are the parameters that we pass on to a function.\n",
    "\n",
    "![image.png](figures/fig173.PNG)\n",
    "\n",
    "Local scopes are the variable declared in a function and isn't accessible from outside of the function. Like if we declare a variable in void it won't be accessible from loop function. These variables are called local scope.\n",
    "\n",
    "![image.png](figures/fig174.PNG)\n",
    "\n",
    "\n",
    "There are 5 types of operator in arduino uno, listed below.\n",
    "\n",
    "![image.png](figures/fig176.PNG)"
   ]
  },
  {
   "cell_type": "markdown",
   "metadata": {},
   "source": [
    "\n",
    "\n",
    "![image.png](figures/fig181.PNG)\n",
    "\n",
    "![image.png](figures/fig182.PNG)\n",
    "\n",
    "A && B will be true when both are same if they are variable, if A,B is conditional operator than if both A, B is true then A && B is True. In A||B(or operation) it returns true if one of them is true. ! (Not) operation gives us the opposite of the condition like it'll return false if the output is true.\n",
    "\n",
    "![image.png](figures/fig183.PNG)\n",
    "\n",
    "![image.png](figures/fig184.PNG)\n",
    "\n",
    "![image.png](figures/fig185.PNG)\n",
    "\n",
    "![image.png](figures/fig18.PNG)\n",
    "\n",
    "![image.png](figures/fig186.PNG)\n",
    "\n",
    "In binary not you do one's compliment, but when you consider the integer value than not means just the negative of the original value.\n",
    "\n",
    "![image.png](figures/fig187.PNG)\n",
    "\n",
    "# [Learn More About Left, Right Shift](https://www.youtube.com/watch?v=BKzB6gdRyIM)\n",
    "\n",
    "![image.png](figures/fig188.PNG)\n",
    "\n",
    "Binary can be in len 2,4,8,16 so left shifting 2 result in `011000` this has len 6 so we add 2 zeros infront of the result that is `00011000` thus making it len of 8 bit.\n",
    "\n",
    "![image.png](figures/fig189.PNG)\n",
    "\n",
    "![image.png](figures/fig53.PNG)\n",
    "\n",
    "![image.png](figures/fig54.PNG)"
   ]
  },
  {
   "cell_type": "markdown",
   "metadata": {},
   "source": [
    "# That's all for todays lecture!"
   ]
  }
 ],
 "metadata": {
  "kernelspec": {
   "display_name": "Python 3",
   "language": "python",
   "name": "python3"
  },
  "language_info": {
   "codemirror_mode": {
    "name": "ipython",
    "version": 3
   },
   "file_extension": ".py",
   "mimetype": "text/x-python",
   "name": "python",
   "nbconvert_exporter": "python",
   "pygments_lexer": "ipython3",
   "version": "3.7.6"
  }
 },
 "nbformat": 4,
 "nbformat_minor": 4
}
