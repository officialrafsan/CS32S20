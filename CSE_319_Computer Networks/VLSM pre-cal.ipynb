{
 "cells": [
  {
   "cell_type": "markdown",
   "metadata": {},
   "source": [
    "\n",
    "<div class=\"alert alert-success\">\n",
    "    <b>Author</b>:\n",
    "\n",
    "      Rashik Rahman\n",
    "      17201012@uap-bd.edu\n",
    "\n",
    "</div>\n"
   ]
  },
  {
   "cell_type": "markdown",
   "metadata": {},
   "source": [
    "## Get network & host bit from host requirements\n",
    "\n",
    "2^0 = 1\n",
    "\n",
    "2^1(1 host bit) = 2 - 2 = 0 hosts = 32-1=31 network bit\n",
    "\n",
    "2^2(2 host bit) = 4 - 2 = 2 hosts = 32-2=30  network bit\n",
    "\n",
    "2^3(3 host bit) = 8 - 2 = 6 hosts = 32-3=29 network bit\n",
    "\n",
    "2^4(4 host bit) = 16 - 2 = 14 hosts = 32-4=28 network bit\n",
    "\n",
    "2^5(5 host bit) = 32 - 2 = 30 hosts = 32-5=27 network bit\n",
    "\n",
    "2^6(6 host bit) = 64 - 2 = 62 hosts = 32-6=26 network bit\n",
    "\n",
    "2^7(7 host bit) = 128 - 2 = 126 hosts = 32-7=25 network bit\n",
    "\n",
    "2^8(8 host bit) = 256 - 2 = 254 hosts = 32-8=24 network bit\n",
    "\n",
    "2^9(9 host bit) = 512 - 2 = 510 hosts = 32-9=23 network bit\n",
    "\n",
    "2^10(10 host bit) = 1024 - 2 = 1022 hosts = 32-10=22 network bit\n",
    "\n",
    "2^11(11 host bit) = 2048 - 2 = 2046 hosts = 32-11=21 network bit\n",
    "\n",
    "2^12(12 host bit) = 4096 - 2 = 4094 hosts = 32-12=20 network bit\n",
    "\n",
    "2^13(13 host bit) = 8192 - 2 = 8190 hosts = 32-13=19 network bit\n",
    "\n",
    "2^14(14 host bit) = 16384 - 2 = 16382 hosts = 32-14=18 network bit\n",
    "\n",
    "2^15(15 host bit) = 32768 - 2 = 32766 hosts = 32-15=17 network bit\n",
    "\n",
    "2^16(16 host bit) = 65536 - 2 = 65534 hosts = 32-16=16 network bit"
   ]
  },
  {
   "cell_type": "markdown",
   "metadata": {},
   "source": [
    "## Subnet mask calculation from host/network bit\n",
    "\n",
    "For 32 bit network (0 bit host) subnet mask is = 255.255.255.255\n",
    "\n",
    "For 31 bit network (1 bit host) subnet mask is = 255.255.255.254\n",
    "\n",
    "For 30 bit network (2 bit host) subnet mask is = 255.255.255.252\n",
    "\n",
    "For 29 bit network (3 bit host) subnet mask is = 255.255.255.248\n",
    "\n",
    "For 28 bit network (4 bit host) subnet mask is = 255.255.255.240\n",
    "\n",
    "For 27 bit network (5 bit host) subnet mask is = 255.255.255.224\n",
    "\n",
    "For 26 bit network (6 bit host) subnet mask is = 255.255.255.192\n",
    "\n",
    "For 25 bit network (7 bit host) subnet mask is = 255.255.255.128\n",
    "\n",
    "For 24 bit network (8 bit host) subnet mask is = 255.255.255.0\n",
    "\n",
    "For 23 bit network (9 bit host) subnet mask is = 255.255.254.0\n",
    "\n",
    "For 22 bit network (10 bit host) subnet mask is = 255.255.252.0\n",
    "\n",
    "For 21 bit network (11 bit host) subnet mask is = 255.255.248.0\n",
    "\n",
    "For 20 bit network (12 bit host) subnet mask is = 255.255.240.0\n",
    "\n",
    "For 19 bit network (13 bit host) subnet mask is = 255.255.224.0\n",
    "\n",
    "For 18 bit network (14 bit host) subnet mask is = 255.255.192.0\n",
    "\n",
    "For 17 bit network (15 bit host) subnet mask is = 255.255.128.0\n",
    "\n",
    "For 16 bit network (16 bit host) subnet mask is = 255.255.0.0"
   ]
  }
 ],
 "metadata": {
  "kernelspec": {
   "display_name": "Python 3",
   "language": "python",
   "name": "python3"
  },
  "language_info": {
   "codemirror_mode": {
    "name": "ipython",
    "version": 3
   },
   "file_extension": ".py",
   "mimetype": "text/x-python",
   "name": "python",
   "nbconvert_exporter": "python",
   "pygments_lexer": "ipython3",
   "version": "3.7.6"
  }
 },
 "nbformat": 4,
 "nbformat_minor": 4
}
