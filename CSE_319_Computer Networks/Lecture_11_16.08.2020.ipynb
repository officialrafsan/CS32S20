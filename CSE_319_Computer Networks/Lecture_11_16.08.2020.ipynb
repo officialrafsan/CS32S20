{
 "cells": [
  {
   "cell_type": "markdown",
   "metadata": {},
   "source": [
    "\n",
    "<div class=\"alert alert-success\">\n",
    "    <b>Author</b>:\n",
    "\n",
    "      Rashik Rahman\n",
    "      17201012@uap-bd.edu\n",
    "\n",
    "</div>\n",
    "\n",
    "# [Click here to see class lecture](https://photos.app.goo.gl/QEz2jyz6wf8d4iUB6)\n"
   ]
  },
  {
   "cell_type": "markdown",
   "metadata": {},
   "source": [
    "Here 8000bit means 1000bytes(8000/8). RTT = 2xprop. delay. = 30ms. Now if we divide 1000/30 (as 1KB per 30mec) we get  33.33 byte/msec. 33.33x100 = 3333 byte/sec = 33kB/sec. This is throughput.\n",
    "\n",
    "![image.png](figures/fig208.PNG)\n",
    "\n",
    "8000 bit / 30 msec = 267 kbps. So the sender is using only 267 kilobits per second of the 1gig line.\n",
    "\n",
    "![image.png](figures/fig209.PNG)\n",
    "\n",
    "IPv4 has 4 octets arranged in 4 orientation of network and host. Thus there are four classes in IPv4. In lab we have seen how to design VLSM given a base address. That method was very time consuming. In this lecture we'll see a shortcut method to design VLSM and also we'll see if a host ip address is given then how can we calculate network, subnet, broadcast address and usable host range.\n",
    "\n",
    "Here the ip  can given in two form either 14.12.15.17/19 (19 network host) or 14.12.15.17 & 255.255.224.0 (referring to 19 network host). In the second type as subnet is given then we need to only calculate other factors.\n",
    "\n",
    "![image.png](figures/fig210.PNG)\n",
    "\n",
    "\n",
    "\n",
    "Let assume 14.12.15.17/19 we are given this and need to calculate all other factors. First we'll see the long approach then shortcut.\n",
    "\n",
    "- Calculate subnet \n",
    "\n",
    "Lets calculate subnet mask first. As there are just 19 bit so there'll be 19 '1' and 13 '0' s.  \n",
    "\n",
    "![image.png](figures/fig211.PNG)\n",
    "\n",
    "- Calculate network address\n",
    "\n",
    "14.12.15.17 we'll convert this into binary.\n",
    "\n",
    "![image.png](figures/fig212.PNG)\n",
    "\n",
    "Next step is we'll do bitwise AND operation between this binary conversion of host address and binary conversion of subnet mask. If we do AND operation between host and subnet we'll always get network address. So after that we can convert the binary result of the AND operation to decimal to get the network address.\n",
    "\n",
    "![image.png](figures/fig213.PNG)\n",
    "\n",
    "**shortcut method to calculate network address**\n",
    "\n",
    "Previously we have done AND operation between the whole host address and subnet mask. As the network is 19bit so 1st 2 octets will always be 1 and in 3rd octet there'll be 1s and 0s. So as the 1st 2 octets are all 1 then we don't need to do AND operation between first 2 octets of host address and subnet. So the network address of first 2 octets will remain the same.\n",
    "\n",
    "15.17 & 224.0 = 00001111.00010001 & 11100000.000000000 = 00000000.00000000 = 0.0\n",
    "\n",
    "So the network address will be 14.12( these two octets stays the same).0.0\n",
    "\n",
    "- Calculate broadcast address\n",
    "\n",
    "We calculate broadcast address by just doing one's compliment to only host address. So we'll use shortcut method here also. As the first 2 octets are network we'll keep them as it is. 3rd octet has both network and host address. network address is 14.12.0.0 here first 2 octets are network and 3rd octet has 3 network bits. Rest of the bit are for host so we do one's compliment on them.\n",
    "\n",
    "![image.png](figures/fig214.PNG)\n",
    "\n",
    "So broadcast address is 14.12.31.255\n",
    "\n",
    "- Calculate host range \n",
    "\n",
    "First host = Network address + 1 = 14.12.0.1\n",
    "\n",
    "Last host = Broadcast address -1 = 14.12.31.254\n",
    "\n",
    "Another example. \n",
    "\n",
    "Here first 3 octets will remain the same as these octets has all 1s or 255 in their subnet. So we do AND operation only between 68 and 192. So we get network address 200.128.50.01 000000=200.128.50.64 and if do one's compliment on the host part of the network address we get, 200.128.50.01 111111=200.128.50.127 \n",
    "\n",
    "![image.png](figures/fig216.PNG)\n",
    "\n",
    "Range will be 200.128.50.65 to 200.128.50.126\n",
    "\n",
    "![image.png](figures/fig217.PNG)"
   ]
  },
  {
   "cell_type": "markdown",
   "metadata": {},
   "source": [
    "In exam either question come like mentioned above or we need to design a VLSM like this. Base address will be given.\n",
    "\n",
    "![image.png](figures/fig215.PNG)\n",
    "\n",
    "![image.png](figures/fig218.PNG)\n",
    "\n",
    "![image.png](figures/fig219.PNG)"
   ]
  },
  {
   "cell_type": "markdown",
   "metadata": {},
   "source": [
    "This type of question can come like you ID can become your ip or you id mod some value will become your ip.\n",
    "\n",
    "![image.png](figures/fig220.PNG)\n",
    "![image.png](figures/fig221.PNG)\n",
    "\n",
    "- tip: when you are to do a protocol design don't refer to book protocol like rdt2.0 just say it like protocol X or Rashik (your name) Protocol. In rdt you can draw FSM and give a brief verbal explanation."
   ]
  },
  {
   "cell_type": "markdown",
   "metadata": {},
   "source": [
    "# That's all for this lecture!"
   ]
  }
 ],
 "metadata": {
  "kernelspec": {
   "display_name": "Python 3",
   "language": "python",
   "name": "python3"
  },
  "language_info": {
   "codemirror_mode": {
    "name": "ipython",
    "version": 3
   },
   "file_extension": ".py",
   "mimetype": "text/x-python",
   "name": "python",
   "nbconvert_exporter": "python",
   "pygments_lexer": "ipython3",
   "version": "3.7.6"
  }
 },
 "nbformat": 4,
 "nbformat_minor": 4
}
