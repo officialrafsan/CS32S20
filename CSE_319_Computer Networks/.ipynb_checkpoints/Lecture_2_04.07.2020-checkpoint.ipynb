{
 "cells": [
  {
   "cell_type": "markdown",
   "metadata": {},
   "source": [
    "<div class=\"alert alert-success\">\n",
    "    <b>Author</b>:\n",
    "\n",
    "      Rashik Rahman\n",
    "      17201012@uap-bd.edu\n",
    "\n",
    "</div>\n"
   ]
  },
  {
   "cell_type": "markdown",
   "metadata": {},
   "source": [
    "# Video Link : https://photos.app.goo.gl/EtR9nLhxZot94zs48"
   ]
  },
  {
   "cell_type": "markdown",
   "metadata": {},
   "source": [
    "![image.png](figures/fig23.PNG)"
   ]
  },
  {
   "cell_type": "markdown",
   "metadata": {},
   "source": [
    "\n",
    "\n",
    "**Circuit switching :** \n",
    "In a circuit switching network a dedicated communications path is established between two stations through the nodes of the network.That path is a connected sequence of physical links between nodes with a logical channel dedicated to the connection. In this the you have to establish the connection before sending the actual data.\n",
    "\n",
    "Ex : Analog telephone network\n",
    "\n",
    "\n",
    "**Packet switching :**\n",
    "A packet switching network uses a different approach,without need to a dedicated  transmission capacity along a path through the network.Rather the data is sent in a sequence of small chunks called packets.This packet goes are sent in a sequence through nodes and paths to the destination. In this we don't need to pre-define the connection path the routes decide that while transmitting.\n",
    "\n",
    "Ex : Ethernet, Internet Protocol (IP), and the User Datagram Protocol (UDP).\n"
   ]
  },
  {
   "cell_type": "markdown",
   "metadata": {},
   "source": [
    "![image.png](figures/fig24.PNG)\n",
    "\n",
    "There's a 1Mb/s link each user will be granted 100kb/s and the users are active 10% of the time. How many user can we connect in circuit and packet switching for this link.\n",
    "\n",
    "In circuit switching we can connect 1024/100 = near about 10 users. But as the users are active 10% of the time so 90% of the total time of connection the line is unutilized as these connections are dedicated. So to get better efficiency we can use packet switching.\n",
    "\n",
    "Lets assume we connect 35 users what is the probability of 10(we choose this value cause to give 100kb/s there shouldn't be more than 10 users at a time) active users at same time?(we can solve binomial probability distribution to solve this)\n",
    "\n",
    "![image.png](figures/fig25.PNG)\n",
    "\n",
    "Here \n",
    "n=35, x=10, p=10%=0.1, q=90%=0.9\n",
    "\n",
    "P(x) = C(35,10) x 0.1^10 x 0.9^25 = 0.0004 = 0.04%\n",
    "\n",
    "So the probability of having 10 active user at a time is 0.04%. This is very negletable, so giving connection to 35 persons will not harm the speed and when a channel is inactive others in the 35 persons can use that channel. This was the limitation in circuit switching. \n"
   ]
  },
  {
   "cell_type": "markdown",
   "metadata": {},
   "source": [
    "![image.png](figures/fig26.PNG)\n",
    "\n",
    "![image.png](figures/fig27.PNG)\n",
    "\n",
    "To transfer data access networks must be connected to each other. Like \n",
    "\n",
    "![image.png](figures/fig28.PNG)\n",
    "\n",
    "This is a very complex network. How can we make it simpler? The evaluation of a simpler network was driven by economics and national policies.\n",
    "\n",
    "![image.png](figures/fig29.PNG)\n",
    "\n",
    "Maybe there would be some global ISP and access networks would be connected to the global ISP by the edge router. This can be one solution. Connection is established with every one by the means of internal forwarding. \n",
    "\n",
    "![image.png](figures/fig30.PNG)\n",
    "![image.png](figures/fig31.PNG)\n",
    "\n",
    "Another solution can be like we can divide the ISP by zone. Like ISP_A can be north america, ISP_C can be asia, ISP_B can be africa. And these ISPs are interconnected with each other by using peering link or IXP( internet exchange point). IXP helps the ISPs to communicate with each other. IXP is considered as a bridge between ISPs. IXP is only a connection point between ISPs it has no function in a particular ISP. This can be another solution. As there can be many ISP we can get better service cause there won't be any scope for monopoly.\n",
    "\n"
   ]
  },
  {
   "cell_type": "markdown",
   "metadata": {},
   "source": [
    "![image.png](figures/fig32.PNG)\n",
    "\n",
    "We connect with each other to share the content(audio, video, etx etc) Content provider network provides the content. Here lets assume ISP_B is BTCL and regional net supplies net to the regions of BD from here we get a sense of hierarchical network. \n",
    "\n",
    "![image.png](figures/fig33.PNG)\n",
    "\n",
    "For BD tier 1 ISP can be BTCL and there are some content provider like google, facebook, amazon etc. Our access ISP can be directly connected to content provider or it can be connected to regional ISP then tier 1 ISP then content provider.\n",
    "\n",
    "![image.png](figures/fig34.PNG)\n",
    "\n",
    "These are some example of tier 1 ISP and how they are connected in USA."
   ]
  },
  {
   "cell_type": "markdown",
   "metadata": {},
   "source": [
    "![image.png](figures/fig35.PNG)\n",
    "\n",
    "We can count loss and delay based on bandwidth. Router is also a one kind of computer that process our packet, as its a computer it has a memory called buffer. The packets arrives and waits in buffer for processing. When the buffer is overwhelmed it can cause loss due to lack of free space in the buffer. Packets queue in router buffer when the the packet arrival rate is higher than output link capacity thus causing delay."
   ]
  },
  {
   "cell_type": "markdown",
   "metadata": {},
   "source": [
    "![image.png](figures/fig36.PNG)\n",
    "\n",
    "![image.png](figures/fig37.PNG)"
   ]
  },
  {
   "cell_type": "markdown",
   "metadata": {},
   "source": [
    "![image.png](figures/fig38.PNG)\n",
    "\n",
    "Here we consider a packet of 10 bits as 10 cars. Each car is processed in booth A then given permission to goto booth B. Processing time for each car is 12sec. And the propagation speed  is 100km/h and the distance is 100km. So when the 1st car leaves booth A after 12sec 2nd car will leave booth A. So total queue delay is 12 x 10 =120sec=2min and the transmission delay or we can say the time it the last car will take to reach booth B is 100km/(100km/hr) = 1hr=60min(propagation delay). So total delay of the packet is 62min. \n",
    "Here as it takes 1hr to cross the distance so the cars will reach sequentially at booth B with interval of 12sec. \n",
    "\n",
    "![image.png](figures/fig39.PNG)\n",
    "\n",
    "But for this scenario the propagation speed is 1000km/hr. So propagation delay( the time it takes to reach booth B) is 60 x (100/1000)= 60 x 0.1 = 6 min. It takes the 6 min for the last car to reach booth B and total delay is 6+2 = 8mins. As booth A needs only 2min to process all the cars and 1st car reaches booth B in 6mins then there won't be any cars in booth A left when 1st car reaches booth A.\n",
    "\n",
    "For this example let assume booth A takes 1 min to process a single car. So when a 1st car reaches booth B how many cars will be left in booth A?\n",
    "\n",
    "So total processing time in booth A is 10 min. 1st car takes 6min(propagation delay)+1min(nodal processing time in booth A) =7 mins to reach booth B, so the remaining cars in booth A are 10-7=3 cars. cause each car takes 1min to process and when 1st car reached booth B it took 7mins so in this 7 mins 7 cars was processed in booth A and there were 3cars remaining.\n",
    "\n"
   ]
  },
  {
   "cell_type": "markdown",
   "metadata": {},
   "source": [
    "![image.png](figures/fig40.PNG)\n",
    "\n",
    "![image.png](figures/fig41.PNG)\n",
    "\n",
    "For windows traceroute is traceart. This command returns the delay from each node. It send 3packets to each node and waits for the response to measure delay. Like the PC1 sends 3 packets two router 1 and upon receiving response calculates the delay by using return time then it again will send 3packets to router two via router1 and will again calculate delay. This process will be repeated until the destination port is reached that is PC2 here to get the final delay. Ex:\n",
    "\n",
    "![image.png](figures/fig42.PNG)"
   ]
  },
  {
   "cell_type": "markdown",
   "metadata": {},
   "source": [
    "![image.png](figures/fig43.PNG)\n",
    "\n",
    "![image.png](figures/fig44.PNG)\n",
    "\n",
    "![image.png](figures/fig45.PNG)\n",
    "\n",
    "Throughput is basically bandwidth. The size of the throughput that we actually can use is called goodput. When Rs < Rc throughput is ok but when Rs > Rc then its not ok causing overflow resulting in not good throughput. This is also called bottleneck link.\n",
    "\n",
    "![image.png](figures/fig46.PNG)   "
   ]
  },
  {
   "cell_type": "markdown",
   "metadata": {},
   "source": [
    "![image.png](figures/fig47.PNG)\n",
    "\n",
    "Why we need layers? Network are complex with many pieces. Layers helps to partition functionalities by maintaining a series of steps. Making it more manageable.\n",
    "\n",
    "![image.png](figures/fig48.PNG)\n",
    "\n",
    "![image.png](figures/fig49.PNG)\n",
    "\n",
    "![image.png](figures/fig50.PNG)\n",
    "\n",
    "![image.png](figures/fig51.PNG)\n",
    "\n",
    "![image.png](figures/fig52.PNG)\n",
    "\n",
    "<h3>1. Physical Layer (Layer 1) :</h3>\n",
    "<p>The lowest layer of the OSI reference model is the physical layer. It is responsible for the actual physical connection between the devices. The physical layer contains information in the form of<strong>&nbsp;bits.</strong>&nbsp;It is responsible for transmitting individual bits from one node to the next. When receiving data, this layer will get the signal received and convert it into 0s and 1s and send them to the Data Link layer, which will put the frame back together.</p>\n",
    "<h3>2. Data Link Layer (DLL) (Layer 2) :</h3>\n",
    "<p>The data link layer is responsible for the node to node delivery of the message. The main function of this layer is to make sure data transfer is error-free from one node to another, over the physical layer. When a packet arrives in a network, it is the responsibility of DLL to transmit it to the Host using its MAC address.</p>\n",
    "<h3>3. Network Layer (Layer 3) :</h3>\n",
    "<p>Network layer works for the transmission of data from one host to the other located in different networks. It also takes care of packet routing i.e. selection of the shortest path to transmit the packet, from the number of routes available. The sender &amp; receiver&rsquo;s IP address are placed in the header by the network layer.<br />The functions of the Network layer are :</p>\n",
    "<h3>4. Transport Layer (Layer 4) :</h3>\n",
    "<p>Transport layer provides services to application layer and takes services from network layer. The data in the transport layer is referred to as&nbsp;<em>Segments</em>. It is responsible for the End to End Delivery of the complete message. The transport layer also provides the acknowledgement of the successful data transmission and re-transmits the data if an error is found.</p>\n",
    "<h3>5. Session Layer (Layer 5) :</h3>\n",
    "<p>This layer is responsible for establishment of connection, maintenance of sessions, authentication and also ensures security.<br />The functions of the session layer are :</p>\n",
    "<h3>6. Presentation Layer (Layer 6) :</h3>\n",
    "<p>Presentation layer is also called the&nbsp;<strong>Translation layer</strong>.The data from the application layer is extracted here and manipulated as per the required format to transmit over the network.<br />The functions of the presentation layer are :</p>\n",
    "<h3>7. Application Layer (Layer 7) :</h3>\n",
    "<p>At the very top of the OSI Reference Model stack of layers, we find Application layer which is implemented by the network applications. These applications produce the data, which has to be transferred over the network. This layer also serves as a window for the application services to access the network and for displaying the received information to the user.<br /><em><br /></em></p>"
   ]
  },
  {
   "cell_type": "markdown",
   "metadata": {},
   "source": [
    "**For this semester we'll focus on TCP/IP.**\n",
    "\n",
    "![image.png](figures/fig53.PNG)\n",
    "\n",
    "suppose source want to send m message to destination. when m is in application layer its message, when it comes to transport layer it becomes segment transport layers adds a header to it, when it comes to network layer it becomes datagram or packet network layers adds a header to it, when it comes to link or data link layer it becomes a frame link layers adds a header to it. when the frame comes to router, the router unpacks a header and check for the destination of the frame then again packs it and sends it to final destination."
   ]
  },
  {
   "cell_type": "markdown",
   "metadata": {},
   "source": [
    "![image.png](figures/fig54.PNG)\n",
    "\n",
    "![image.png](figures/fig55.PNG)\n",
    "\n",
    "![image.png](figures/fig56.PNG)\n",
    "\n",
    "![image.png](figures/fig57.PNG)\n",
    "\n",
    "![image.png](figures/fig58.PNG)"
   ]
  },
  {
   "cell_type": "markdown",
   "metadata": {},
   "source": [
    "# Thats all for todays lecture!"
   ]
  }
 ],
 "metadata": {
  "kernelspec": {
   "display_name": "Python 3",
   "language": "python",
   "name": "python3"
  },
  "language_info": {
   "codemirror_mode": {
    "name": "ipython",
    "version": 3
   },
   "file_extension": ".py",
   "mimetype": "text/x-python",
   "name": "python",
   "nbconvert_exporter": "python",
   "pygments_lexer": "ipython3",
   "version": "3.7.6"
  }
 },
 "nbformat": 4,
 "nbformat_minor": 4
}
