{
 "cells": [
  {
   "cell_type": "markdown",
   "metadata": {},
   "source": [
    "<div class=\"alert alert-success\">\n",
    "    <b>Author</b>:\n",
    "\n",
    "      Rashik Rahman\n",
    "      17201012@uap-bd.edu\n",
    "\n",
    "</div>"
   ]
  },
  {
   "cell_type": "markdown",
   "metadata": {},
   "source": [
    "**Requirements to run this file :**<br>\n",
    "pip install jupyterlab<br>\n",
    "pip install selenium<br>\n",
    "chromedriver (https://chromedriver.storage.googleapis.com/index.html?path=84.0.4147.30/)<br>"
   ]
  },
  {
   "cell_type": "markdown",
   "metadata": {},
   "source": [
    "## Task In Hand\n",
    "\n",
    "We have learned in the LAB02 about how to get started with Selenium on Python. We also learned some basic functionalities that we can perform with Python and Selenium to automatically access some elements on a website with a view to testing. \n",
    "\n",
    "Your task is to do the following-\n",
    "\n",
    "\"Open any website using Selenium of your choice, demonstrate your working ability with the basic functions namely- <br>\n",
    "**`current_url()`**: Open a webpage<br>\n",
    "**`title()`**: Returns title of the page<br>\n",
    "**`back()`**: Goto previous page<br>\n",
    "**`forward()`**: Goto next page<br>\n",
    "**`find_element_by_xpath()`**: Find element<br>\n",
    "**`find_element_by_link_text()`**: Find<br> \n",
    "\n",
    "\n",
    "“Open any website say www.upwork.com on selenium. On the homepage, you will see there are a bunch of different tab options labeled as- Mobile Dev, Web Dev, Design, etc. etc. We have learned how to select one of the options by inspecting its XPATH from the website. So in order to test all of the tabs, we need to find those options individually with separate XPATHs that means to select say 5 options from the homepage we need to find out 5 separate XPATHs and write 5 find functions to select.\n",
    "\n",
    "Can you think and implement a way to run a loop or recursive function and perform this operation of selecting as many tabs there are and display their title separately from the homepage? That means the loop will do something like this: HOMEPAGE->TAB1->HOMEPAGE->TAB2->HOMEPAGE------>TABn->HOMEPAGE ” [This is an optional task, hopefully some of you can do it!]\n"
   ]
  },
  {
   "cell_type": "code",
   "execution_count": 1,
   "metadata": {},
   "outputs": [],
   "source": [
    "#Modules\n",
    "from selenium.common.exceptions import NoSuchElementException, ElementClickInterceptedException\n",
    "from selenium import webdriver\n",
    "import time"
   ]
  },
  {
   "cell_type": "code",
   "execution_count": 2,
   "metadata": {},
   "outputs": [],
   "source": [
    "#-------------------------OPEN BROWSER--------------------#\n",
    "def current_url():\n",
    "    options = webdriver.ChromeOptions()\n",
    "    driver = webdriver.Chrome(executable_path='chromedriver.exe', options=options)\n",
    "    driver.set_window_size(1200, 1300)\n",
    "    url = 'https://www.glassdoor.com/Job/data-scientist-jobs-SRCH_KE0,14_IP2.htm'\n",
    "    driver.get(url)\n",
    "    \n",
    "    \n",
    "    #Close the pop up window\n",
    "    time.sleep(10)\n",
    "    try:\n",
    "            driver.find_element_by_class_name(\"selected\").click()\n",
    "    except ElementClickInterceptedException:\n",
    "        pass\n",
    "\n",
    "    time.sleep(.1)\n",
    "\n",
    "    try:\n",
    "        driver.find_element_by_css_selector('[alt=\"Close\"]').click() #clicking to the X.\n",
    "        print(' x out worked')\n",
    "    except NoSuchElementException:\n",
    "        print(' x out failed')\n",
    "        \n",
    "    return driver\n",
    "\n",
    "\n",
    "\n",
    "#-------------------------GET TITLE----------------------#\n",
    "def title(driver):\n",
    "    return driver.title\n",
    "\n",
    "\n",
    "\n",
    "#-------------------------GOTO NEXT PAGE---------------------#\n",
    "def forward(driver):\n",
    "    time.sleep(3)\n",
    "    try:\n",
    "        driver.find_element_by_xpath('.//li[@class=\"next\"]//a').click()\n",
    "    except NoSuchElementException:\n",
    "        print(\"Cant'\\t Find Element!!\")\n",
    "    time.sleep(3)\n",
    "    \n",
    "    \n",
    "#-------------------------GOTO PREVIOUS PAGE---------------------#    \n",
    "def back(driver):\n",
    "    time.sleep(3)\n",
    "    try:\n",
    "        driver.find_element_by_xpath('.//li[@class=\"prev\"]//a').click()\n",
    "    except NoSuchElementException:\n",
    "        print(\"Cant'\\t Find Element!!\")\n",
    "    time.sleep(3)\n",
    "    \n",
    "    \n",
    "#-----------------------FIND ELEMENT USING LINK---------------------#\n",
    "def find_element_link(driver): ####Not recommended using link text to find elements cause of data redundency. Using XPath to find element is recommended.\n",
    "    time.sleep(3)\n",
    "    try:\n",
    "        driver.find_element_by_link_text('Company Reviews').click()\n",
    "    except NoSuchElementException:\n",
    "        print(\"Cant'\\t Find Element!!\")\n",
    "    time.sleep(3)\n",
    "\n",
    "    \n",
    "#-----------------------FIND ELEMENT USING XPATH---------------------#\n",
    "def find_element_xpath(driver): \n",
    "\n",
    "    for i in range(2,7):\n",
    "        time.sleep(3)\n",
    "        try: #Closing the topnav pop up banner\n",
    "            driver.find_element_by_xpath('//*[@id=\"CovidInfoBanner\"]/div/div/span').click()\n",
    "        except:\n",
    "            pass\n",
    "\n",
    "        try:\n",
    "            path = '//*[@id=\"TopNav\"]/nav/div[2]/ul[2]/li['+str(i)+']'\n",
    "            driver.find_element_by_xpath(path).click()\n",
    "        except: \n",
    "            driver.find_element_by_xpath(path).click()\n",
    "            time.sleep(3)\n",
    "\n",
    "\n",
    "#-----------------------BONUS TASK---------------------#\n",
    "def bonus(driver):\n",
    "    url = 'https://www.glassdoor.com/Job/data-scientist-jobs-SRCH_KE0,14_IP2.htm'\n",
    "    driver.get(url)\n",
    "    paths = ['//*[@id=\"TopNav\"]/nav/div[2]/ul[2]/li[2]/a','//*[@id=\"TopNav\"]/nav/div[2]/ul[2]/li[3]/a',\n",
    "         '//*[@id=\"TopNav\"]/nav/div[2]/ul[2]/li[4]/a','//*[@id=\"TopNav\"]/nav/div[2]/ul[2]/li[5]/a',\n",
    "        '//*[@id=\"TopNav\"]/nav/div[2]/ul[2]/li[6]/a']\n",
    "\n",
    "\n",
    "    for path in paths : \n",
    "        time.sleep(4)\n",
    "        link = driver.find_element_by_xpath(path)\n",
    "        href = link.get_attribute('href')\n",
    "        if href:\n",
    "            driver.execute_script('window.open(arguments[0]);', href)\n",
    "        else:\n",
    "            link.click()\n",
    "\n",
    "    time.sleep(2)\n",
    "    windows = driver.window_handles\n",
    "    driver.switch_to.window(windows[0])\n",
    "    time.sleep(4)\n",
    "    for i in range(5,0,-1):\n",
    "        driver.switch_to.window(windows[i])\n",
    "        time.sleep(3)\n",
    "        driver.switch_to.window(windows[0])\n",
    "        time.sleep(3)"
   ]
  },
  {
   "cell_type": "markdown",
   "metadata": {},
   "source": [
    "## Open webpage"
   ]
  },
  {
   "cell_type": "code",
   "execution_count": 3,
   "metadata": {},
   "outputs": [
    {
     "name": "stdout",
     "output_type": "stream",
     "text": [
      " x out worked\n"
     ]
    }
   ],
   "source": [
    "driver = current_url()"
   ]
  },
  {
   "cell_type": "markdown",
   "metadata": {},
   "source": [
    "## See the title"
   ]
  },
  {
   "cell_type": "code",
   "execution_count": 4,
   "metadata": {},
   "outputs": [
    {
     "data": {
      "text/plain": [
       "'data scientist Jobs | Glassdoor'"
      ]
     },
     "execution_count": 4,
     "metadata": {},
     "output_type": "execute_result"
    }
   ],
   "source": [
    "title(driver)"
   ]
  },
  {
   "cell_type": "markdown",
   "metadata": {},
   "source": [
    "## Next page"
   ]
  },
  {
   "cell_type": "code",
   "execution_count": 5,
   "metadata": {},
   "outputs": [],
   "source": [
    "forward(driver)"
   ]
  },
  {
   "cell_type": "markdown",
   "metadata": {},
   "source": [
    "## Previous page"
   ]
  },
  {
   "cell_type": "code",
   "execution_count": 6,
   "metadata": {},
   "outputs": [],
   "source": [
    "back(driver)"
   ]
  },
  {
   "cell_type": "markdown",
   "metadata": {},
   "source": [
    "## Find Element using link"
   ]
  },
  {
   "cell_type": "code",
   "execution_count": 7,
   "metadata": {},
   "outputs": [],
   "source": [
    "find_element_link(driver)\n"
   ]
  },
  {
   "cell_type": "markdown",
   "metadata": {},
   "source": [
    "## Find Element using Xpath"
   ]
  },
  {
   "cell_type": "code",
   "execution_count": 8,
   "metadata": {},
   "outputs": [],
   "source": [
    "find_element_xpath(driver)"
   ]
  },
  {
   "cell_type": "markdown",
   "metadata": {},
   "source": [
    "## Bonus task\n",
    "**” HOMEPAGE->TAB1->HOMEPAGE->TAB2->HOMEPAGE------>TABn->HOMEPAGE ”**"
   ]
  },
  {
   "cell_type": "code",
   "execution_count": 9,
   "metadata": {},
   "outputs": [],
   "source": [
    "bonus(driver)"
   ]
  },
  {
   "cell_type": "markdown",
   "metadata": {},
   "source": [
    "# [Click here to see the output video documentation in google photos](https://photos.app.goo.gl/vu1CNKBETE3sPXkf9)"
   ]
  },
  {
   "cell_type": "markdown",
   "metadata": {},
   "source": [
    "# END"
   ]
  }
 ],
 "metadata": {
  "kernelspec": {
   "display_name": "Python 3",
   "language": "python",
   "name": "python3"
  },
  "language_info": {
   "codemirror_mode": {
    "name": "ipython",
    "version": 3
   },
   "file_extension": ".py",
   "mimetype": "text/x-python",
   "name": "python",
   "nbconvert_exporter": "python",
   "pygments_lexer": "ipython3",
   "version": "3.7.6"
  }
 },
 "nbformat": 4,
 "nbformat_minor": 4
}
