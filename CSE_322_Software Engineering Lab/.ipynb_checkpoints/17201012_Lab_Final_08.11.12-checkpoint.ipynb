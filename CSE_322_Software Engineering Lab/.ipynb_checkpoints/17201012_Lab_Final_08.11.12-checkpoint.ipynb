{
 "cells": [
  {
   "cell_type": "markdown",
   "metadata": {},
   "source": [
    "<div class=\"alert alert-success\">\n",
    "    <b>Author</b>:\n",
    "\n",
    "      Rashik Rahman\n",
    "      17201012@uap-bd.edu\n",
    "\n",
    "</div>"
   ]
  },
  {
   "cell_type": "code",
   "execution_count": 1,
   "metadata": {},
   "outputs": [],
   "source": [
    "from selenium.common.exceptions import NoSuchElementException, ElementClickInterceptedException\n",
    "from selenium import webdriver\n",
    "from selenium.webdriver.common.by import By\n",
    "from selenium.webdriver.support.ui import Select"
   ]
  },
  {
   "cell_type": "code",
   "execution_count": 18,
   "metadata": {},
   "outputs": [],
   "source": [
    "# open webpage \n",
    "options = webdriver.ChromeOptions()\n",
    "driver = webdriver.Chrome(executable_path='chromedriver.exe', options=options)\n",
    "driver.set_window_size(1120, 1000)\n",
    "url = 'https://www.seleniumeasy.com/test/basic-checkbox-demo.html'\n",
    "driver.get(url)"
   ]
  },
  {
   "cell_type": "code",
   "execution_count": 19,
   "metadata": {},
   "outputs": [
    {
     "data": {
      "text/plain": [
       "'Selenium Easy - Checkbox demo for automation using selenium'"
      ]
     },
     "execution_count": 19,
     "metadata": {},
     "output_type": "execute_result"
    }
   ],
   "source": [
    "driver.title"
   ]
  },
  {
   "cell_type": "code",
   "execution_count": 22,
   "metadata": {},
   "outputs": [
    {
     "data": {
      "text/plain": [
       "True"
      ]
     },
     "execution_count": 22,
     "metadata": {},
     "output_type": "execute_result"
    }
   ],
   "source": [
    "driver.find_element_by_xpath('//*[@id=\"treemenu\"]/li/ul/li[1]/a').is_enabled()"
   ]
  },
  {
   "cell_type": "code",
   "execution_count": 25,
   "metadata": {},
   "outputs": [
    {
     "data": {
      "text/plain": [
       "'HiHiHi'"
      ]
     },
     "execution_count": 25,
     "metadata": {},
     "output_type": "execute_result"
    }
   ],
   "source": [
    "text_field = driver.find_element_by_xpath('//*[@id=\"user-message\"]')\n",
    "text_field.send_keys('Hi')\n",
    "driver.find_element_by_xpath('//*[@id=\"get-input\"]/button').click()\n",
    "driver.find_element_by_xpath('//*[@id=\"display\"]').text"
   ]
  },
  {
   "cell_type": "code",
   "execution_count": 31,
   "metadata": {},
   "outputs": [
    {
     "ename": "AttributeError",
     "evalue": "'NoneType' object has no attribute 'is_enabled'",
     "output_type": "error",
     "traceback": [
      "\u001b[1;31m---------------------------------------------------------------------------\u001b[0m",
      "\u001b[1;31mAttributeError\u001b[0m                            Traceback (most recent call last)",
      "\u001b[1;32m<ipython-input-31-53dfc4e5adc8>\u001b[0m in \u001b[0;36m<module>\u001b[1;34m\u001b[0m\n\u001b[0;32m      1\u001b[0m \u001b[1;31m# boxes = driver.find_elements(By.CLASS_NAME,'rt-tr-group')\u001b[0m\u001b[1;33m\u001b[0m\u001b[1;33m\u001b[0m\u001b[1;33m\u001b[0m\u001b[0m\n\u001b[0;32m      2\u001b[0m \u001b[0mbpx\u001b[0m\u001b[1;33m=\u001b[0m\u001b[0mdriver\u001b[0m\u001b[1;33m.\u001b[0m\u001b[0mfind_element_by_xpath\u001b[0m\u001b[1;33m(\u001b[0m\u001b[1;34m'//*[@id=\"easycont\"]/div/div[2]/div[2]/div[2]/div[2]/label/input'\u001b[0m\u001b[1;33m)\u001b[0m\u001b[1;33m.\u001b[0m\u001b[0mclick\u001b[0m\u001b[1;33m(\u001b[0m\u001b[1;33m)\u001b[0m\u001b[1;33m\u001b[0m\u001b[1;33m\u001b[0m\u001b[0m\n\u001b[1;32m----> 3\u001b[1;33m \u001b[0mbpx\u001b[0m\u001b[1;33m.\u001b[0m\u001b[0mis_enabled\u001b[0m\u001b[1;33m(\u001b[0m\u001b[1;33m)\u001b[0m\u001b[1;33m\u001b[0m\u001b[1;33m\u001b[0m\u001b[0m\n\u001b[0m",
      "\u001b[1;31mAttributeError\u001b[0m: 'NoneType' object has no attribute 'is_enabled'"
     ]
    }
   ],
   "source": [
    "# boxes = driver.find_elements(By.CLASS_NAME,'rt-tr-group')\n",
    "driver.find_element_by_xpath('//*[@id=\"easycont\"]/div/div[2]/div[2]/div[2]/div[2]/label/input').click()\n",
    "\n"
   ]
  },
  {
   "cell_type": "code",
   "execution_count": 36,
   "metadata": {},
   "outputs": [
    {
     "name": "stdout",
     "output_type": "stream",
     "text": [
      "Checked\n"
     ]
    }
   ],
   "source": [
    "var = driver.find_element_by_xpath('//*[@id=\"easycont\"]/div/div[2]/div[2]/div[2]/div[2]/label/input')\n",
    "if var.get_attribute(\"checked\") == \"true\":\n",
    "    print('Checked')\n",
    "else:\n",
    "    print('Not Checked')"
   ]
  },
  {
   "cell_type": "code",
   "execution_count": 37,
   "metadata": {},
   "outputs": [
    {
     "data": {
      "text/plain": [
       "'true'"
      ]
     },
     "execution_count": 37,
     "metadata": {},
     "output_type": "execute_result"
    }
   ],
   "source": [
    "var.get_attribute(\"checked\")"
   ]
  },
  {
   "cell_type": "code",
   "execution_count": 40,
   "metadata": {},
   "outputs": [],
   "source": [
    "input_forms = driver.find_element_by_xpath('//*[@id=\"treemenu\"]/li/ul/li[1]/a')\n",
    "input_forms.click()\n",
    "driver.find_element_by_xpath('//*[@id=\"treemenu\"]/li/ul/li[1]/ul/li[4]/a').click()"
   ]
  },
  {
   "cell_type": "code",
   "execution_count": 43,
   "metadata": {},
   "outputs": [
    {
     "data": {
      "text/plain": [
       "'Day selected :- Monday'"
      ]
     },
     "execution_count": 43,
     "metadata": {},
     "output_type": "execute_result"
    }
   ],
   "source": [
    "from selenium.webdriver.support.ui import Select\n",
    "drop_element = driver.find_element_by_xpath('//*[@id=\"select-demo\"]')\n",
    "drp = Select(drop_element)\n",
    "drp.select_by_visible_text('Monday')\n",
    "driver.find_element_by_xpath('//*[@id=\"easycont\"]/div/div[2]/div[1]/div[2]/p[2]').text"
   ]
  },
  {
   "cell_type": "code",
   "execution_count": 48,
   "metadata": {},
   "outputs": [],
   "source": [
    "\n",
    "\n",
    "driver.find_element_by_xpath('//*[@id=\"treemenu\"]/li/a').click()"
   ]
  },
  {
   "cell_type": "code",
   "execution_count": 52,
   "metadata": {},
   "outputs": [],
   "source": [
    "table = driver.find_element_by_xpath('//*[@id=\"treemenu\"]/li/ul/li[3]/a')\n",
    "table.click()\n",
    "driver.find_element_by_xpath('//*[@id=\"treemenu\"]/li/ul/li[3]/ul/li[1]/a').click()\n",
    "driver.find_element_by_xpath('//*[@id=\"myPager\"]/li[4]/a').click()"
   ]
  },
  {
   "cell_type": "code",
   "execution_count": 58,
   "metadata": {},
   "outputs": [
    {
     "data": {
      "text/plain": [
       "'6'"
      ]
     },
     "execution_count": 58,
     "metadata": {},
     "output_type": "execute_result"
    }
   ],
   "source": [
    "cols = driver.find_elements(By.TAG_NAME,'th')\n",
    "col = str(len(cols)-1)\n",
    "col"
   ]
  },
  {
   "cell_type": "code",
   "execution_count": 60,
   "metadata": {},
   "outputs": [
    {
     "data": {
      "text/plain": [
       "'6'"
      ]
     },
     "execution_count": 60,
     "metadata": {},
     "output_type": "execute_result"
    }
   ],
   "source": [
    "driver.find_element_by_xpath('/html/body/div[2]/div/div[2]/section/div/table/thead/tr/th[7]').text.split()[2]\n"
   ]
  },
  {
   "cell_type": "code",
   "execution_count": 71,
   "metadata": {},
   "outputs": [
    {
     "data": {
      "text/plain": [
       "'Table cell'"
      ]
     },
     "execution_count": 71,
     "metadata": {},
     "output_type": "execute_result"
    }
   ],
   "source": [
    "driver.find_element_by_xpath('//*[@id=\"myTable\"]/tr[13]/td[7]').text\n"
   ]
  },
  {
   "cell_type": "code",
   "execution_count": 69,
   "metadata": {},
   "outputs": [
    {
     "data": {
      "text/plain": [
       "''"
      ]
     },
     "execution_count": 69,
     "metadata": {},
     "output_type": "execute_result"
    }
   ],
   "source": [
    "cols[2].text"
   ]
  },
  {
   "cell_type": "code",
   "execution_count": null,
   "metadata": {},
   "outputs": [],
   "source": [
    "from selenium import webdriver\n",
    "from selenium.webdriver.common.by import By\n",
    "import time\n",
    "from selenium.webdriver.support.ui import Select\n",
    "import unittest\n",
    "\n",
    "# opening geko driver\n",
    "driver = webdriver.Firefox(executable_path=\"c:/sel_firefox/geckodriver.exe\")\n",
    "# opening website\n",
    "driver.get('https://demoqa.com/text-box')\n",
    "driver.maximize_window()\n",
    "\n",
    "class LabelTest(unittest.TestCase):\n",
    "    def test_textfield_one(self):\n",
    "        full_name = driver.find_element_by_xpath('//*[@id=\"userName\"]')\n",
    "        full_name.click\n",
    "        full_name.send_keys('Rafat Jamader maraz')\n",
    "        text = full_name.text\n",
    "        self.assertEqual('Rafat Jamader maraz', text, 'TextField 1 failed.')  # Pass 1\n",
    "    def test_textfield_two_failed(self):\n",
    "        full_name = driver.find_element_by_xpath('//*[@id=\"userEmail\"]')\n",
    "        full_name.click\n",
    "        text = full_name.text\n",
    "        self.assertEqual('rafat@gmail.com', text, 'TextField 2 failed.')  # P\n",
    "    def test_checkbox_one(self):\n",
    "        check_box_option = driver.find_element_by_xpath('//*[@id=\"item-1\"]')\n",
    "        check_box_option.click()\n",
    "        check_box_option = driver.find_element_by_xpath('/html/body/div/div/div/div[2]/div[2]/div[1]/div[1]/ol/li/span/label/span[3]')\n",
    "        check_box_option.click()\n",
    "        text = check_box_option.text\n",
    "        self.assertEqual('Home', text, 'check box 1 failed.')  # Pass 1\n",
    "    def test_checkbox_two_failed(self):\n",
    "        # check home radio button\n",
    "        check_box_option = driver.find_element_by_xpath('/html/body/div/div/div/div[2]/div[2]/div[1]/div[1]/ol/li/span/label/span[3]')\n",
    "        check_box_option.click()\n",
    "        time.sleep(2)\n",
    "        is_selected = check_box_option.is_selected()\n",
    "        self.assertEqual(False , is_selected, 'check box 2 failed.')  # P\n",
    "     \n",
    "    def test_radio_button_one(self):\n",
    "        radio_button_option = driver.find_element_by_xpath('//*[@id=\"item-2\"]')\n",
    "        radio_button_option.click()\n",
    "        time.sleep(2)\n",
    "        impressive_radio_option = driver.find_element_by_xpath('/html/body/div/div/div/div[2]/div[2]/div[1]/div[3]/label')\n",
    "        impressive_radio_option.click()\n",
    "        time.sleep(2)\n",
    "        is_selected = impressive_radio_option.is_selected()\n",
    "        self.assertEqual(True, is_selected, 'radio button 1 failed.')  # Pass 1\n",
    "    def test_radio_button_two_failed(self):\n",
    "        yes_radio_option = driver.find_element_by_xpath('/html/body/div/div/div/div[2]/div[2]/div[1]/div[2]/label')\n",
    "        yes_radio_option.click()\n",
    "        time.sleep(2)\n",
    "        text = yes_radio_option.text()\n",
    "        self.assertEqual('No', text, 'radio button 2 failed.')  \n",
    "    def test_webtable_one(self):\n",
    "        web_table_option = driver.find_element_by_xpath('//*[@id=\"item-3\"]')\n",
    "        web_table_option.click()\n",
    "        time.sleep(2)\n",
    "        web_table_search_input = driver.find_element_by_xpath('//*[@id=\"searchBox\"]')\n",
    "        web_table_search_input.click()\n",
    "        web_table_search_input.send_keys('Alden')\n",
    "        time.sleep(2)\n",
    "        text = web_table_search_input.text()\n",
    "        self.assertEqual('Alden', text, 'webtable input test failed.')  # Pass 1\n",
    "    def test_webtable_two_failed(self):\n",
    "        add_new_record_button = driver.find_element_by_xpath('//*[@id=\"addNewRecordButton\"]')\n",
    "        text = add_new_record_button.text()\n",
    "        self.assertEqual('Rafat', text, 'webtable input button test failed.')  # P\n",
    "\n",
    "unittest.main()"
   ]
  },
  {
   "cell_type": "code",
   "execution_count": null,
   "metadata": {},
   "outputs": [],
   "source": [
    "from selenium import webdriver\n",
    "from selenium.webdriver.common.by import By\n",
    "from selenium.webdriver.support.ui import Select\n",
    "import unittest\n",
    "\n",
    "\n",
    "class FinalTest(unittest.TestCase):\n",
    "\n",
    "\n",
    "    def testTitle(self): #Match The title, If error then it means title matches and the module is ok.\n",
    "        options = webdriver.ChromeOptions()\n",
    "        self.driver = webdriver.Chrome(executable_path='E:\\\\3.2_Notes\\\\CSE_322_Software Engineering Lab\\\\chromedriver.exe', options=options)\n",
    "        self.driver.set_window_size(1120, 1000)\n",
    "        url = 'https://www.seleniumeasy.com/test/basic-checkbox-demo.html'\n",
    "        self.driver.get(url)\n",
    "        title = self.driver.title\n",
    "        self.assertNotEqual(title,'Selenium Easy - Checkbox demo for automation using selenium','Title Matches') #If error occurs that means title matches\n",
    "        self.driver.close()\n",
    "\n",
    "    def testContract_Expand_MainMenu(self):\n",
    "        options = webdriver.ChromeOptions()\n",
    "        self.driver = webdriver.Chrome(executable_path='E:\\\\3.2_Notes\\\\CSE_322_Software Engineering Lab\\\\chromedriver.exe', options=options)\n",
    "        self.driver.set_window_size(1120, 1000)\n",
    "        url = 'https://www.seleniumeasy.com/test/basic-checkbox-demo.html'\n",
    "        self.driver.get(url)\n",
    "        cnt = 0\n",
    "        try:\n",
    "            #Collapse Main Menu\n",
    "            self.driver.find_element_by_xpath('//*[@id=\"treemenu\"]/li/a').click()\n",
    "            cnt = 1\n",
    "        except:\n",
    "            pass\n",
    "        try:\n",
    "            # Expand Main Menu\n",
    "            self.driver.find_element_by_xpath('//*[@id=\"treemenu\"]/li/a').click()\n",
    "            cnt = 2\n",
    "        except:\n",
    "            pass\n",
    "\n",
    "        self.assertEqual(cnt, 2, 'Main menu list doesn\\'t collapses and expands successfully')# No error means main menu was collapesed and expanded successfully.\n",
    "        self.driver.close()\n",
    "\n",
    "    def testDropDown(self): # Goto drop down and select a value. Retrieve the selected value's text and match it with the selected text from drop down .\n",
    "        # Error in this test means that the text matches and the module is ok.\n",
    "        options = webdriver.ChromeOptions()\n",
    "        self.driver = webdriver.Chrome(executable_path='E:\\\\3.2_Notes\\\\CSE_322_Software Engineering Lab\\\\chromedriver.exe', options=options)\n",
    "        self.driver.set_window_size(1120, 1000)\n",
    "        url = 'https://www.seleniumeasy.com/test/basic-checkbox-demo.html'\n",
    "        self.driver.get(url)\n",
    "\n",
    "        #Navigate to \"Select Dropdown List\" section.\n",
    "        input_forms = self.driver.find_element_by_xpath('//*[@id=\"treemenu\"]/li/ul/li[1]/a')\n",
    "        input_forms.click()\n",
    "        self.driver.find_element_by_xpath('//*[@id=\"treemenu\"]/li/ul/li[1]/ul/li[4]/a').click()\n",
    "\n",
    "        #Select a dropdown option\n",
    "        drop_element = self.driver.find_element_by_xpath('//*[@id=\"select-demo\"]')\n",
    "        drp = Select(drop_element)\n",
    "        drp.select_by_visible_text('Monday')\n",
    "\n",
    "        #Rrtrieve the selected dropdown text\n",
    "        retrived_text = self.driver.find_element_by_xpath('//*[@id=\"easycont\"]/div/div[2]/div[1]/div[2]/p[2]').text\n",
    "        self.assertNotEqual(retrived_text, 'Day selected :- Monday', 'Text Matches') #If error occurs that means the selcted dropdown option and retrieved option matches.\n",
    "        self.driver.close()\n",
    "\n",
    "    def testForms(self): #Fill a text field. Retrieve the data and match if the send text and retrieve text are same or not. Error in this test means that the text matches and the module is ok.\n",
    "        options = webdriver.ChromeOptions()\n",
    "        self.driver = webdriver.Chrome(executable_path='E:\\\\3.2_Notes\\\\CSE_322_Software Engineering Lab\\\\chromedriver.exe', options=options)\n",
    "        self.driver.set_window_size(1120, 1000)\n",
    "        url = 'https://www.seleniumeasy.com/test/basic-checkbox-demo.html'\n",
    "        self.driver.get(url)\n",
    "\n",
    "        #Navigate to \"Simple form Demo\" section\n",
    "        input_forms = self.driver.find_element_by_xpath('//*[@id=\"treemenu\"]/li/ul/li[1]/a')\n",
    "        input_forms.click()\n",
    "        self.driver.find_element_by_xpath('//*[@id=\"treemenu\"]/li/ul/li[1]/ul/li[1]/a').click()\n",
    "\n",
    "        #Fill the form & submit\n",
    "        text_field = self.driver.find_element_by_xpath('//*[@id=\"user-message\"]')\n",
    "        text = 'Hi'\n",
    "        text_field.send_keys(text)\n",
    "        self.driver.find_element_by_xpath('//*[@id=\"get-input\"]/button').click()\n",
    "\n",
    "        #Retrieve the submitted text\n",
    "        retrieved_text = self.driver.find_element_by_xpath('//*[@id=\"display\"]').text\n",
    "        self.assertNotEqual(retrieved_text, text, 'Text Matches') # If error that means the passed and retrieved text matches.\n",
    "        self.driver.close()\n",
    "\n",
    "    def testCheckBox(self): #Click a check box and see if its checked or not. Pass means the module works fine.\n",
    "        options = webdriver.ChromeOptions()\n",
    "        self.driver = webdriver.Chrome(executable_path='E:\\\\3.2_Notes\\\\CSE_322_Software Engineering Lab\\\\chromedriver.exe', options=options)\n",
    "        self.driver.set_window_size(1120, 1000)\n",
    "        url = 'https://www.seleniumeasy.com/test/basic-checkbox-demo.html'\n",
    "        self.driver.get(url)\n",
    "\n",
    "        #Navigate to \"CheckBox Demo\" section\n",
    "\n",
    "        input_forms = self.driver.find_element_by_xpath('//*[@id=\"treemenu\"]/li/ul/li[1]/a')\n",
    "        input_forms.click()\n",
    "        self.driver.find_element_by_xpath('//*[@id=\"treemenu\"]/li/ul/li[1]/ul/li[2]/a').click()\n",
    "        self.driver.find_element_by_xpath('//*[@id=\"easycont\"]/div/div[2]/div[2]/div[2]/div[2]/label/input').click() # Click the check box\n",
    "\n",
    "        #Check if it is checked\n",
    "        var = self.driver.find_element_by_xpath('//*[@id=\"easycont\"]/div/div[2]/div[2]/div[2]/div[2]/label/input')\n",
    "        self.assertEqual(var.get_attribute(\"checked\"), 'true', 'Check Box isn\\'t selected') # Passed means the checkbox is checked\n",
    "        self.driver.close()\n",
    "\n",
    "    def testTableRow(self):\n",
    "        options = webdriver.ChromeOptions()\n",
    "        self.driver = webdriver.Chrome(executable_path='E:\\\\3.2_Notes\\\\CSE_322_Software Engineering Lab\\\\chromedriver.exe', options=options)\n",
    "        self.driver.set_window_size(1120, 1000)\n",
    "        url = 'https://www.seleniumeasy.com/test/basic-checkbox-demo.html'\n",
    "        self.driver.get(url)\n",
    "\n",
    "        # Navigate to \"Table Pagination\" section\n",
    "        table = self.driver.find_element_by_xpath('//*[@id=\"treemenu\"]/li/ul/li[3]/a')\n",
    "        table.click()\n",
    "        self.driver.find_element_by_xpath('//*[@id=\"treemenu\"]/li/ul/li[3]/ul/li[1]/a').click()\n",
    "        self.driver.find_element_by_xpath('//*[@id=\"myPager\"]/li[4]/a').click()\n",
    "\n",
    "        # Count rows and match it with the last row number displayed in the table\n",
    "        rows = self.driver.find_elements(By.TAG_NAME, 'tr')\n",
    "        row =  str(len(rows)-1)\n",
    "        actual_row = self.driver.find_element_by_xpath('//*[@id=\"myTable\"]/tr[13]/td[1]').text\n",
    "\n",
    "        self.assertEqual(row, actual_row, 'Row number doesn\\'t match') # Pass means retrieved row number and actual rows matches.\n",
    "        self.driver.close()\n",
    "\n",
    "    def testTableCol(self):\n",
    "        options = webdriver.ChromeOptions()\n",
    "        self.driver = webdriver.Chrome(executable_path='E:\\\\3.2_Notes\\\\CSE_322_Software Engineering Lab\\\\chromedriver.exe', options=options)\n",
    "        self.driver.set_window_size(1120, 1000)\n",
    "        url = 'https://www.seleniumeasy.com/test/basic-checkbox-demo.html'\n",
    "        self.driver.get(url)\n",
    "\n",
    "        # Navigate to \"Table Pagination\" section\n",
    "        table = self.driver.find_element_by_xpath('//*[@id=\"treemenu\"]/li/ul/li[3]/a')\n",
    "        table.click()\n",
    "        self.driver.find_element_by_xpath('//*[@id=\"treemenu\"]/li/ul/li[3]/ul/li[1]/a').click()\n",
    "        self.driver.find_element_by_xpath('//*[@id=\"myPager\"]/li[4]/a').click()\n",
    "\n",
    "        # Count columns and match it with the last row number displayed in the table\n",
    "        cols = self.driver.find_elements(By.TAG_NAME, 'th')\n",
    "        col = str(len(cols) - 1)\n",
    "        actual_col = self.driver.find_element_by_xpath('/html/body/div[2]/div/div[2]/section/div/table/thead/tr/th[7]').text.split()[2]\n",
    "\n",
    "        self.assertEqual(col, actual_col, 'Col number doesn\\'t match')\n",
    "        self.driver.close()\n",
    "\n",
    "    def testLastRowLastCol_Data(self):\n",
    "        options = webdriver.ChromeOptions()\n",
    "        self.driver = webdriver.Chrome(executable_path='E:\\\\3.2_Notes\\\\CSE_322_Software Engineering Lab\\\\chromedriver.exe', options=options)\n",
    "        self.driver.set_window_size(1120, 1000)\n",
    "        url = 'https://www.seleniumeasy.com/test/basic-checkbox-demo.html'\n",
    "        self.driver.get(url)\n",
    "\n",
    "        # Navigate to \"Table Pagination\" section\n",
    "        table = self.driver.find_element_by_xpath('//*[@id=\"treemenu\"]/li/ul/li[3]/a')\n",
    "        table.click()\n",
    "        self.driver.find_element_by_xpath('//*[@id=\"treemenu\"]/li/ul/li[3]/ul/li[1]/a').click()\n",
    "        self.driver.find_element_by_xpath('//*[@id=\"myPager\"]/li[4]/a').click()\n",
    "\n",
    "        #Get tha last data of the last row and last column of the table\n",
    "        data = self.driver.find_element_by_xpath('//*[@id=\"myTable\"]/tr[13]/td[7]').text\n",
    "        self.assertEqual(data, 'Table cell', 'Data doesn\\'t match') # Pass means data matched.\n",
    "        self.driver.close()\n",
    "\n",
    "if __name__ == '__main__':\n",
    "    unittest.main()"
   ]
  },
  {
   "cell_type": "code",
   "execution_count": 73,
   "metadata": {},
   "outputs": [],
   "source": [
    "driver = webdriver.Chrome(executable_path='chromedriver.exe')\n",
    "url = 'https://www.demoqa.com/elements'\n",
    "driver.get(url)\n"
   ]
  },
  {
   "cell_type": "code",
   "execution_count": 78,
   "metadata": {},
   "outputs": [],
   "source": [
    "driver.find_element_by_xpath('//*[@id=\"item-1\"]/span').click()\n",
    "driver.find_element_by_xpath('//*[@id=\"tree-node\"]/ol/li/span/label/span[1]').click()\n",
    "# var = driver.find_element_by_xpath('//*[@id=\"easycont\"]/div/div[2]/div[2]/div[2]/div[2]/label/input')"
   ]
  },
  {
   "cell_type": "code",
   "execution_count": 87,
   "metadata": {},
   "outputs": [
    {
     "name": "stdout",
     "output_type": "stream",
     "text": [
      "None\n"
     ]
    }
   ],
   "source": [
    "var = driver.find_element_by_xpath('//*[@id=\"tree-node-home\"]')\n",
    "print(var.get_attribute('checked'))"
   ]
  },
  {
   "cell_type": "code",
   "execution_count": 88,
   "metadata": {},
   "outputs": [],
   "source": [
    "driver.find_element_by_xpath('//*[@id=\"item-2\"]/span').click()"
   ]
  },
  {
   "cell_type": "code",
   "execution_count": 95,
   "metadata": {},
   "outputs": [],
   "source": [
    "button = driver.find_element_by_xpath('//*[@id=\"app\"]/div/div/div[2]/div[2]/div[1]/div[3]')\n",
    "button.click()"
   ]
  },
  {
   "cell_type": "code",
   "execution_count": 96,
   "metadata": {},
   "outputs": [
    {
     "data": {
      "text/plain": [
       "False"
      ]
     },
     "execution_count": 96,
     "metadata": {},
     "output_type": "execute_result"
    }
   ],
   "source": [
    "button.is_selected()"
   ]
  },
  {
   "cell_type": "code",
   "execution_count": null,
   "metadata": {},
   "outputs": [],
   "source": []
  }
 ],
 "metadata": {
  "kernelspec": {
   "display_name": "Python 3",
   "language": "python",
   "name": "python3"
  },
  "language_info": {
   "codemirror_mode": {
    "name": "ipython",
    "version": 3
   },
   "file_extension": ".py",
   "mimetype": "text/x-python",
   "name": "python",
   "nbconvert_exporter": "python",
   "pygments_lexer": "ipython3",
   "version": "3.7.6"
  }
 },
 "nbformat": 4,
 "nbformat_minor": 4
}
