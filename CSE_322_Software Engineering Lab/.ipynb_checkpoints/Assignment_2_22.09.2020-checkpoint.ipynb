{
 "cells": [
  {
   "cell_type": "markdown",
   "metadata": {},
   "source": [
    "<div class=\"alert alert-success\">\n",
    "    <b>Author</b>:\n",
    "\n",
    "      Rashik Rahman\n",
    "      17201012@uap-bd.edu\n",
    "\n",
    "</div>"
   ]
  },
  {
   "cell_type": "markdown",
   "metadata": {},
   "source": [
    "## [Click here to see the output video](https://photos.app.goo.gl/vmT7BSq2pJR8o62U8)\n",
    "\n",
    "**Requirements to run this file :**<br>\n",
    "pip install jupyterlab<br>\n",
    "pip install selenium<br>\n",
    "chromedriver (https://chromedriver.storage.googleapis.com/index.html?path=85.0.4183.87/)<br>"
   ]
  },
  {
   "cell_type": "markdown",
   "metadata": {},
   "source": [
    "## Task in Hand\n",
    "\n",
    "Using SELENIUM, firstly open https://www.demoqa.com. Then do the next tasks.\n",
    "\n",
    "TASK 1 :\n",
    "\n",
    "- Select the ELEMENTS option from the choices given which will redirect you to a new page.\n",
    "- From the leftside options, select TextBox and find out how many text boxes are there in that page and print.\n",
    "- After that, using the writing method on a text box, input your details in all the textboxes. [When finding out the text box elements, try to use a LIST variable as shown in the demo text file]\n",
    "- After all the inputs click SUBMIT.\n",
    "\n",
    "TASK 2 :\n",
    "\n",
    "- Select the Checkbox from the leftside options. You will see just one checkbox called HOME. If you click on the arrow beside it, newer checkboxes will appear.\n",
    "- We have gone through how to select multiple checkboxes and an element. So firstly, expand all the options one by one by clicking the Arrow beside them.\n",
    "- When all the options are expanded, select Notes from Desktop and Angular from Documents.\n",
    "\n",
    "(EXTRA) Find out exactly how many checkboxes are selected and how\n",
    "many are not after you have successfully finished TASK2 and print that\n",
    "number."
   ]
  },
  {
   "cell_type": "code",
   "execution_count": 1,
   "metadata": {},
   "outputs": [],
   "source": [
    "from selenium.common.exceptions import NoSuchElementException, ElementClickInterceptedException\n",
    "from selenium import webdriver\n",
    "from selenium.webdriver.common.by import By\n",
    "import time\n"
   ]
  },
  {
   "cell_type": "code",
   "execution_count": 2,
   "metadata": {},
   "outputs": [],
   "source": [
    "# open webpage \n",
    "options = webdriver.ChromeOptions()\n",
    "driver = webdriver.Chrome(executable_path='chromedriver.exe', options=options)\n",
    "driver.set_window_size(1920, 1080)\n",
    "url = 'https://www.demoqa.com/'\n",
    "driver.get(url)"
   ]
  },
  {
   "cell_type": "markdown",
   "metadata": {},
   "source": [
    "## TASK 1:"
   ]
  },
  {
   "cell_type": "code",
   "execution_count": 3,
   "metadata": {},
   "outputs": [],
   "source": [
    "#Click elements\n",
    "Elements = driver.find_element_by_xpath('//*[@id=\"app\"]/div/div/div[2]/div/div[1]/div/div[3]')\n",
    "Elements.click()\n",
    "time.sleep(1)"
   ]
  },
  {
   "cell_type": "code",
   "execution_count": 4,
   "metadata": {},
   "outputs": [],
   "source": [
    "#Click text box\n",
    "Text_Box = driver.find_element_by_xpath('//*[@id=\"item-0\"]')\n",
    "Text_Box.click()\n",
    "time.sleep(1)"
   ]
  },
  {
   "cell_type": "code",
   "execution_count": 5,
   "metadata": {},
   "outputs": [
    {
     "name": "stdout",
     "output_type": "stream",
     "text": [
      "4\n"
     ]
    }
   ],
   "source": [
    "# Finding Input Boxes\n",
    "input_boxes = driver.find_elements(By.CLASS_NAME,'form-control')\n",
    "print(len(input_boxes))"
   ]
  },
  {
   "cell_type": "code",
   "execution_count": 6,
   "metadata": {},
   "outputs": [],
   "source": [
    "# Filling the input fields\n",
    "input_boxes[0].send_keys('Rashik Rahman')\n",
    "input_boxes[1].send_keys('17201012@uap-bd.edu')\n",
    "input_boxes[2].send_keys('Green Road')\n",
    "input_boxes[3].send_keys('Gazipur')\n",
    "time.sleep(1)"
   ]
  },
  {
   "cell_type": "code",
   "execution_count": 7,
   "metadata": {},
   "outputs": [],
   "source": [
    "#Submitting\n",
    "Submit =  driver.find_element_by_xpath('//*[@id=\"submit\"]')\n",
    "Submit.click()\n",
    "time.sleep(1)"
   ]
  },
  {
   "cell_type": "markdown",
   "metadata": {},
   "source": [
    "## Task 2:"
   ]
  },
  {
   "cell_type": "code",
   "execution_count": 8,
   "metadata": {},
   "outputs": [],
   "source": [
    "#Click Check Box\n",
    "check_box = driver.find_element_by_xpath('//*[@id=\"item-1\"]/span')\n",
    "check_box.click()\n",
    "time.sleep(1)"
   ]
  },
  {
   "cell_type": "code",
   "execution_count": 9,
   "metadata": {},
   "outputs": [],
   "source": [
    "#Expand Home\n",
    "arrorw = driver.find_element_by_xpath('//*[@id=\"tree-node\"]/ol/li/span/button')\n",
    "arrorw.click()\n",
    "time.sleep(1)"
   ]
  },
  {
   "cell_type": "code",
   "execution_count": 10,
   "metadata": {},
   "outputs": [],
   "source": [
    "#Expand desktop and seletc notes\n",
    "desktop_arrorw = driver.find_element_by_xpath('//*[@id=\"tree-node\"]/ol/li/ol/li[1]/span/button')\n",
    "desktop_arrorw.click()\n",
    "\n",
    "time.sleep(1)\n",
    "\n",
    "notes = driver.find_element_by_xpath('//*[@id=\"tree-node\"]/ol/li/ol/li[1]/ol/li[1]/span/label/span[3]')\n",
    "notes.click()\n",
    "time.sleep(1)"
   ]
  },
  {
   "cell_type": "code",
   "execution_count": 11,
   "metadata": {},
   "outputs": [],
   "source": [
    "# Expand documents then expand workspace and select angular\n",
    "docs_arrorw = driver.find_element_by_xpath('//*[@id=\"tree-node\"]/ol/li/ol/li[2]/span/button')\n",
    "docs_arrorw.click()\n",
    "\n",
    "time.sleep(1)\n",
    "\n",
    "workSpace_arrow = driver.find_element_by_xpath('//*[@id=\"tree-node\"]/ol/li/ol/li[2]/ol/li[1]/span/button')\n",
    "workSpace_arrow.click()\n",
    "\n",
    "time.sleep(1)\n",
    "\n",
    "angular = driver.find_element_by_xpath('//*[@id=\"tree-node\"]/ol/li/ol/li[2]/ol/li[1]/ol/li[2]/span/label/span[3]')\n",
    "angular.click()\n",
    "time.sleep(1)"
   ]
  },
  {
   "cell_type": "markdown",
   "metadata": {},
   "source": [
    "## Bonus"
   ]
  },
  {
   "cell_type": "code",
   "execution_count": 12,
   "metadata": {},
   "outputs": [
    {
     "name": "stdout",
     "output_type": "stream",
     "text": [
      "Total number of visible check boxes are : 11\n"
     ]
    }
   ],
   "source": [
    "# Finding check Boxes\n",
    "names = driver.find_elements_by_class_name('rct-title')\n",
    "print('Total number of visible check boxes are : {}'.format(len(names)))\n",
    "\n",
    "yes = 0\n",
    "no = 0\n",
    "i=0 \n",
    "\n",
    "for i in range(0,len(names)):\n",
    "    var = driver.find_element_by_id(\"tree-node-\"+str.lower(names[i].text))\n",
    "    if var.get_attribute(\"checked\") == \"true\":\n",
    "        yes+=1\n",
    "    else:\n",
    "        no+=1\n",
    "    "
   ]
  },
  {
   "cell_type": "code",
   "execution_count": 13,
   "metadata": {},
   "outputs": [
    {
     "name": "stdout",
     "output_type": "stream",
     "text": [
      "Number of selected check boxes are : 2\n"
     ]
    }
   ],
   "source": [
    "print('Number of selected check boxes are : {}'.format(yes))"
   ]
  },
  {
   "cell_type": "code",
   "execution_count": 14,
   "metadata": {},
   "outputs": [
    {
     "name": "stdout",
     "output_type": "stream",
     "text": [
      "Number of selected check boxes are : 9\n"
     ]
    }
   ],
   "source": [
    "print('Number of selected check boxes are : {}'.format(no))"
   ]
  },
  {
   "cell_type": "markdown",
   "metadata": {},
   "source": [
    "**Here we can see that after completion of task2.  2 of the checkbox are selected (notes&angular) and 9 are unselected.**\n",
    "\n",
    "![Imgur](https://i.imgur.com/q7NiW3G.png)\n",
    "\n",
    "## End of assignment!"
   ]
  }
 ],
 "metadata": {
  "kernelspec": {
   "display_name": "Python 3",
   "language": "python",
   "name": "python3"
  },
  "language_info": {
   "codemirror_mode": {
    "name": "ipython",
    "version": 3
   },
   "file_extension": ".py",
   "mimetype": "text/x-python",
   "name": "python",
   "nbconvert_exporter": "python",
   "pygments_lexer": "ipython3",
   "version": "3.7.6"
  }
 },
 "nbformat": 4,
 "nbformat_minor": 4
}
