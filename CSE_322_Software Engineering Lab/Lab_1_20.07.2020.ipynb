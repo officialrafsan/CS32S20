{
 "cells": [
  {
   "cell_type": "code",
   "execution_count": 1,
   "metadata": {},
   "outputs": [],
   "source": [
    "from selenium.common.exceptions import NoSuchElementException, ElementClickInterceptedException\n",
    "from selenium import webdriver\n",
    "import time"
   ]
  },
  {
   "cell_type": "code",
   "execution_count": 2,
   "metadata": {},
   "outputs": [
    {
     "data": {
      "text/plain": [
       "'data scientist Jobs | Glassdoor'"
      ]
     },
     "execution_count": 2,
     "metadata": {},
     "output_type": "execute_result"
    }
   ],
   "source": [
    "# open webpage & get title\n",
    "options = webdriver.ChromeOptions()\n",
    "driver = webdriver.Chrome(executable_path='chromedriver.exe', options=options)\n",
    "driver.set_window_size(1120, 1000)\n",
    "url = 'https://www.glassdoor.com/Job/data-scientist-jobs-SRCH_KE0,14_IP2.htm'\n",
    "driver.get(url)\n",
    "\n",
    "driver.title\n"
   ]
  },
  {
   "cell_type": "code",
   "execution_count": 3,
   "metadata": {},
   "outputs": [
    {
     "name": "stdout",
     "output_type": "stream",
     "text": [
      " x out worked\n"
     ]
    }
   ],
   "source": [
    "#Close the pop up window\n",
    "\n",
    "time.sleep(10)\n",
    "try:\n",
    "        driver.find_element_by_class_name(\"selected\").click()\n",
    "except ElementClickInterceptedException:\n",
    "    pass\n",
    "\n",
    "time.sleep(.1)\n",
    "\n",
    "try:\n",
    "    driver.find_element_by_css_selector('[alt=\"Close\"]').click() #clicking to the X.\n",
    "    print(' x out worked')\n",
    "except NoSuchElementException:\n",
    "    print(' x out failed')\n",
    "    pass"
   ]
  },
  {
   "cell_type": "code",
   "execution_count": 4,
   "metadata": {},
   "outputs": [],
   "source": [
    "#Goto next page\n",
    "\n",
    "time.sleep(3)\n",
    "\n",
    "try:\n",
    "    driver.find_element_by_xpath('.//li[@class=\"next\"]//a').click()\n",
    "except NoSuchElementException:\n",
    "        print(\"Cant'\\t Find Element!!\")\n",
    "\n",
    "time.sleep(3)\n"
   ]
  },
  {
   "cell_type": "code",
   "execution_count": 5,
   "metadata": {},
   "outputs": [],
   "source": [
    "#Goto previous page\n",
    "\n",
    "time.sleep(3)\n",
    "try:\n",
    "    driver.find_element_by_xpath('.//li[@class=\"prev\"]//a').click()\n",
    "except NoSuchElementException:\n",
    "        print(\"Cant'\\t Find Element!!\")\n",
    "\n",
    "time.sleep(3)"
   ]
  },
  {
   "cell_type": "code",
   "execution_count": 6,
   "metadata": {},
   "outputs": [],
   "source": [
    "#Exit chrome\n",
    "\n",
    "driver.quit()"
   ]
  }
 ],
 "metadata": {
  "kernelspec": {
   "display_name": "Python 3",
   "language": "python",
   "name": "python3"
  },
  "language_info": {
   "codemirror_mode": {
    "name": "ipython",
    "version": 3
   },
   "file_extension": ".py",
   "mimetype": "text/x-python",
   "name": "python",
   "nbconvert_exporter": "python",
   "pygments_lexer": "ipython3",
   "version": "3.7.6"
  }
 },
 "nbformat": 4,
 "nbformat_minor": 4
}
