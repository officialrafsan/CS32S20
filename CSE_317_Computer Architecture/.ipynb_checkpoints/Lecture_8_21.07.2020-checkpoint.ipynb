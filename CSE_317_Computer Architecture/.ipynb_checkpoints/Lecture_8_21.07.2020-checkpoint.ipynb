{
 "cells": [
  {
   "cell_type": "markdown",
   "metadata": {},
   "source": [
    "<div class=\"alert alert-success\">\n",
    "    <b>Author</b>:\n",
    "\n",
    "      Rashik Rahman\n",
    "      17201012@uap-bd.edu\n",
    "\n",
    "</div>\n",
    "\n",
    "# [Click here to see class lecture](https://photos.app.goo.gl/wHXAUc6EXR91baLr6)"
   ]
  },
  {
   "cell_type": "markdown",
   "metadata": {},
   "source": [
    "Both register and data are 32 bits long for MIPS. Number of register are also 32. There are three types of instruction format in MIPS.\n",
    "\n",
    "- R-Type : Arithmetic Instruction.\n",
    "- I-Type\n",
    "- J-Type\n",
    "\n",
    "### R-Type\n",
    "\n",
    "6+5+5+5+5+6 = 32 bit instruction. So instruction is also 32 bit long. By `op-code` we can know that what type of instruction it is. like is R-Type. By `function field` we'll be able to know what type of operation we have to like add,sub etc. `destination operand` is the register where output will be stored. `first and second operand` are the first and second source operand respectively. `shift amount` field is only used for left/right shift and you have to specify the amount of shift here. So it's always 0 if you aren't doing left/right shift.\n",
    "\n",
    "![image.png](figures/fig47.PNG)\n",
    "\n",
    "\n",
    "Lets practice \n",
    "\n",
    "- given s1=17, s2=18, s3=19, add code=32(assume). Now write MIPS machine code for add s1,s2,s3 this instruction.\n",
    "\n",
    "    Solve: As this is arithmetic instruction so op_code 000000 (referring to R-Type instruction), rs=10010 (18), rt=10011 (19), rd=10001 (17), shamt=00000, fact=100000     (32 for add operation)\n",
    "\n",
    "    machine code : 000000 10010 10011 10001 00000 100000\n",
    "\n",
    "\n",
    "- given s1=17, s2=18, s3=19, sub code=35(assume). Now write MIPS machine code for sub s1,s2,s3 this instruction.\n",
    "\n",
    "    Solve: As this is arithmetic instruction so op_code 000000 (referring to R-Type instruction), rs=10010 (18), rt=10011 (19), rd=10001 (17), shamt=00000,     fact=100011     (35 for sub operation)\n",
    "\n",
    "    machine code : 000000 10010 10011 10001 00000 100011\n"
   ]
  },
  {
   "cell_type": "markdown",
   "metadata": {},
   "source": [
    "# That's all for this lecture!"
   ]
  }
 ],
 "metadata": {
  "kernelspec": {
   "display_name": "Python 3",
   "language": "python",
   "name": "python3"
  },
  "language_info": {
   "codemirror_mode": {
    "name": "ipython",
    "version": 3
   },
   "file_extension": ".py",
   "mimetype": "text/x-python",
   "name": "python",
   "nbconvert_exporter": "python",
   "pygments_lexer": "ipython3",
   "version": "3.7.6"
  }
 },
 "nbformat": 4,
 "nbformat_minor": 4
}
