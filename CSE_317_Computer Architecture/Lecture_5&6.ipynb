{
 "cells": [
  {
   "cell_type": "markdown",
   "metadata": {},
   "source": [
    "**Lecture 5 (12.07.2020) it was a review lecture of lecture 1-4. So there's already a note for that [review class link](https://photos.app.goo.gl/6C7ak7NryxWNHsqd9)<br>\n",
    "Lecture 6(14.7.2020) in this day madam took 1st quiz and the whole time was consumed by the exam so there's no note for this.**"
   ]
  }
 ],
 "metadata": {
  "kernelspec": {
   "display_name": "Python 3",
   "language": "python",
   "name": "python3"
  },
  "language_info": {
   "codemirror_mode": {
    "name": "ipython",
    "version": 3
   },
   "file_extension": ".py",
   "mimetype": "text/x-python",
   "name": "python",
   "nbconvert_exporter": "python",
   "pygments_lexer": "ipython3",
   "version": "3.7.6"
  }
 },
 "nbformat": 4,
 "nbformat_minor": 4
}
