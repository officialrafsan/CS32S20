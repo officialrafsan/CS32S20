{
 "cells": [
  {
   "cell_type": "markdown",
   "metadata": {},
   "source": [
    "<div class=\"alert alert-success\">\n",
    "    <b>Author</b>:\n",
    "\n",
    "      Rashik Rahman\n",
    "      17201012@uap-bd.edu\n",
    "\n",
    "</div>\n",
    "\n",
    "# [Click here to see class lecture](https://drive.google.com/file/d/1y8mhawjYcMZL8zeT-CHLcz4hEfQwrbDr/view)"
   ]
  },
  {
   "cell_type": "markdown",
   "metadata": {},
   "source": [
    "Here I used the console wire (indicated in the fig) to connect laptop with router. I selected rs232 port of laptop and console port of router to connect the wire.\n",
    "\n",
    "![image.png](figures/fig124.PNG)\n",
    "\n",
    "Then goto laptop->desktop->terminal and click OK.\n",
    "\n",
    "![image.png](figures/fig126.PNG)\n",
    "![image.png](figures/fig125.PNG)\n",
    "\n",
    "After clicking ok you'll get this prompt so type \"no\" and hit enter.\n",
    "\n",
    "![image.png](figures/fig127.PNG)\n",
    "\n",
    "Setup we want to do and it's steps.\n",
    "\n",
    "![image.png](figures/fig130.PNG)\n",
    "\n",
    "![image.png](figures/fig128.PNG)\n",
    "\n",
    "![image.png](figures/fig131.PNG)\n",
    "\n",
    "![image.png](figures/fig129.PNG)\n",
    "\n",
    "![image.png](figures/fig132.PNG)\n",
    "\n",
    "![image.png](figures/fig133.PNG)\n",
    "\n",
    "![image.png](figures/fig134.PNG)\n",
    "\n",
    "\n"
   ]
  },
  {
   "cell_type": "markdown",
   "metadata": {},
   "source": [
    "Configure global parameters for this layout given below.\n",
    "\n",
    "![image.png](figures/fig135.PNG)\n",
    "\n"
   ]
  },
  {
   "cell_type": "markdown",
   "metadata": {},
   "source": [
    "# That's all for this lab!"
   ]
  }
 ],
 "metadata": {
  "kernelspec": {
   "display_name": "Python 3",
   "language": "python",
   "name": "python3"
  },
  "language_info": {
   "codemirror_mode": {
    "name": "ipython",
    "version": 3
   },
   "file_extension": ".py",
   "mimetype": "text/x-python",
   "name": "python",
   "nbconvert_exporter": "python",
   "pygments_lexer": "ipython3",
   "version": "3.7.6"
  }
 },
 "nbformat": 4,
 "nbformat_minor": 4
}
