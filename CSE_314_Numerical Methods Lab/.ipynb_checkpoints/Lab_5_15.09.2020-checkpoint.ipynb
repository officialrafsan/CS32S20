{
 "cells": [
  {
   "cell_type": "markdown",
   "metadata": {},
   "source": [
    "<div class=\"alert alert-success\">\n",
    "    <b>Author</b>:\n",
    "\n",
    "      Rashik Rahman\n",
    "      17201012@uap-bd.edu\n",
    "\n",
    "</div>\n",
    "\n",
    "# Video Link : https://drive.google.com/file/d/1fXBCwXVwbV-1zu99pdP-8OHxdrbDLeGU/view"
   ]
  },
  {
   "cell_type": "markdown",
   "metadata": {},
   "source": [
    "## FDD\n",
    "\n",
    "**Today's task : Use forward divided difference approximation of the first derivative of f(x) = 3*e^(2.5*x)+2 to calculate the derivative at x=2.12 with a step size of 2. Find the exact value and absolute relative true error. Use four decimal digit arithmetic to find a solution.**\n",
    "\n",
    "Here y2 is f(x+delta_x) and y1 is f(x) and delta_x is step size.  So FDD = (y2-y1)/delta_x"
   ]
  },
  {
   "cell_type": "markdown",
   "metadata": {},
   "source": [
    "[Derivative Calculator](https://www.derivative-calculator.net/)\n",
    "\n",
    "![image.png](figures/fig10.PNG)\n",
    "\n",
    "![image.png](figures/fig11.PNG)"
   ]
  },
  {
   "cell_type": "code",
   "execution_count": 1,
   "metadata": {},
   "outputs": [
    {
     "name": "stdout",
     "output_type": "stream",
     "text": [
      "The Exact value is: 1502.53\n",
      "The value of FDD is: 44298.4\n",
      "The absolute error is: 2848.2632\n"
     ]
    }
   ],
   "source": [
    "\n",
    "%another scenario can be x1 and x2 given so x2 will (x+delta_X) and x1 will be x.\n",
    "\n",
    "clear\n",
    "\n",
    "delta_x = 2;\n",
    "x = 2.12;\n",
    "x2 = x + delta_x;\n",
    "\n",
    "\n",
    "%f(x) = 3e^(2.5x)+2\n",
    "\n",
    "y2 = 3*e^(2.5*x2)+2;\n",
    "\n",
    "y1 = 3*e^(2.5*x)+2;\n",
    "\n",
    "FDD = (y2-y1)/delta_x;\n",
    "  \n",
    "       \n",
    "ExactValue = (15*exp((5*2.12)/2))/2; % got this from FDD_BDD_CDD_Exact.m this is the exact value of the eqn f(x)\n",
    "\n",
    "\n",
    "fprintf('The Exact value is: %g\\n', ExactValue);\n",
    "\n",
    "fprintf('The value of FDD is: %g\\n', FDD);\n",
    "\n",
    "Error=abs(((ExactValue-FDD)/ExactValue)*100);\n",
    "disp(['The absolute error is: ', num2str(Error)]);\n"
   ]
  },
  {
   "cell_type": "markdown",
   "metadata": {},
   "source": [
    "## BDD\n",
    "\n",
    "Here y2 is f(x) and y1 is f(x-delta_x) and delta_x is step size.  So BDD = (y2-y1)/delta_x"
   ]
  },
  {
   "cell_type": "code",
   "execution_count": 2,
   "metadata": {},
   "outputs": [
    {
     "name": "stdout",
     "output_type": "stream",
     "text": [
      "x =  2.1200\n",
      "The Exact value is: 1502.53\n",
      "The value of BDD is: 298.48\n",
      "The absolute error is: 80.1348\n"
     ]
    }
   ],
   "source": [
    "\n",
    "clear\n",
    "\n",
    "delta_x = 2;\n",
    "x=2.12\n",
    "x2 = x;\n",
    "x1 = x - delta_x;\n",
    "\n",
    "\n",
    "%f(x) = 3e^(2.5x)+2\n",
    "\n",
    "y2 = 3*e^(2.5*x2)+2;\n",
    "\n",
    "y1 = 3*e^(2.5*x1)+2;\n",
    "\n",
    "BDD = (y2-y1)/delta_x;\n",
    "  \n",
    "       \n",
    "ExactValue = (15*exp((5*2.12)/2))/2; % got this from FDD_BDD_CDD_Exact.m this is the exact value of the eqn f(x)\n",
    "\n",
    "\n",
    "fprintf('The Exact value is: %g\\n', ExactValue);\n",
    "\n",
    "fprintf('The value of BDD is: %g\\n', BDD);\n",
    "\n",
    "Error=abs(((ExactValue-BDD)/ExactValue)*100);\n",
    "disp(['The absolute error is: ', num2str(Error)]);\n"
   ]
  },
  {
   "cell_type": "markdown",
   "metadata": {},
   "source": [
    "## CDD\n",
    "\n",
    "Here y2 is f(x+delta_x) and y1 is f(x-delta_x) and delta_x is step size.  So CDD = (y2-y1)/2*delta_x"
   ]
  },
  {
   "cell_type": "code",
   "execution_count": 3,
   "metadata": {},
   "outputs": [
    {
     "name": "stdout",
     "output_type": "stream",
     "text": [
      "The Exact value is: 1502.53\n",
      "The value of CDD is: 22298.5\n",
      "The absolute error is: 1384.0642\n"
     ]
    }
   ],
   "source": [
    "\n",
    "clear\n",
    "\n",
    "delta_x = 2;\n",
    "x = 2.12;\n",
    "x2 = x+delta_x;\n",
    "x1 = x - delta_x;\n",
    "\n",
    "\n",
    "%f(x) = 3e^(2.5x)+2\n",
    "\n",
    "y2 = 3*e^(2.5*x2)+2;\n",
    "\n",
    "y1 = 3*e^(2.5*x1)+2;\n",
    "\n",
    "CDD = (y2-y1)/(2*delta_x);\n",
    "  \n",
    "       \n",
    "ExactValue = (15*exp((5*2.12)/2))/2; % got this from FDD_BDD_CDD_Exact.m this is the exact value of the eqn f(x)\n",
    "\n",
    "\n",
    "fprintf('The Exact value is: %g\\n', ExactValue);\n",
    "\n",
    "fprintf('The value of CDD is: %g\\n', CDD);\n",
    "\n",
    "Error=abs(((ExactValue-CDD)/ExactValue)*100);\n",
    "disp(['The absolute error is: ', num2str(Error)]);\n"
   ]
  },
  {
   "cell_type": "code",
   "execution_count": 4,
   "metadata": {},
   "outputs": [],
   "source": [
    "clear"
   ]
  },
  {
   "cell_type": "code",
   "execution_count": 5,
   "metadata": {},
   "outputs": [
    {
     "name": "stdout",
     "output_type": "stream",
     "text": [
      "parse error:\n",
      "\n",
      "  syntax error\n",
      "\n",
      ">>> from * import FDD.m\n",
      "                    ^\n",
      "\n"
     ]
    }
   ],
   "source": [
    "from * import FDD.m"
   ]
  },
  {
   "cell_type": "markdown",
   "metadata": {},
   "source": [
    "`call the above function as anonymous function by, FDD_SecA2(@(x) 3*e^(2.5*x)+2,2.12,2)`\n",
    "\n",
    "` call the above function as inline function by, FDD_SecA2(inline('3*e^(2.5*x)+2', 'x'), 2.12, 2)`"
   ]
  },
  {
   "cell_type": "code",
   "execution_count": 6,
   "metadata": {},
   "outputs": [
    {
     "name": "stdout",
     "output_type": "stream",
     "text": [
      "The Exact value is: 1502.53\n",
      "The value of FDD is: 44298.4\n",
      "ans = The absolute error is: 2848.2632\n",
      "\n"
     ]
    }
   ],
   "source": [
    "FDD(@(x) 3*exp((2.5*x))+2, 2.12, 2)"
   ]
  }
 ],
 "metadata": {
  "kernelspec": {
   "display_name": "Octave",
   "language": "octave",
   "name": "octave"
  },
  "language_info": {
   "file_extension": ".m",
   "help_links": [
    {
     "text": "GNU Octave",
     "url": "https://www.gnu.org/software/octave/support.html"
    },
    {
     "text": "Octave Kernel",
     "url": "https://github.com/Calysto/octave_kernel"
    },
    {
     "text": "MetaKernel Magics",
     "url": "https://metakernel.readthedocs.io/en/latest/source/README.html"
    }
   ],
   "mimetype": "text/x-octave",
   "name": "octave",
   "version": "5.2.0"
  }
 },
 "nbformat": 4,
 "nbformat_minor": 4
}
