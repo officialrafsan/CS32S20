{
 "cells": [
  {
   "cell_type": "markdown",
   "metadata": {},
   "source": [
    "<div class=\"alert alert-success\">\n",
    "    <b>Author</b>:\n",
    "\n",
    "      Rashik Rahman\n",
    "      17201012@uap-bd.edu\n",
    "\n",
    "</div>\n",
    "\n",
    "# Video Link : https://drive.google.com/file/d/1GbzpZCzsJo-tpiM0vN8oJaOVeA9o5zv3/view"
   ]
  },
  {
   "cell_type": "markdown",
   "metadata": {},
   "source": [
    "**Assuming an initial bracket of [3, 4], what would be the second (at the end of 2 iterations) iterative value of the root of the function f(x) = x/2−3√(x+1) using the bisection method. Find the absolute relative approximate error and the number of significant digits at least correct at the end of each iteration. Use four decimal digit arithmetic to find a solution.**"
   ]
  },
  {
   "cell_type": "code",
   "execution_count": 2,
   "metadata": {},
   "outputs": [],
   "source": [
    "clear\n",
    "x_lower = 3;\n",
    "x_upper = 4;\n",
    "myFunction = @(x) (x/2)-(x+1)^(1/3);"
   ]
  },
  {
   "cell_type": "code",
   "execution_count": 3,
   "metadata": {},
   "outputs": [
    {
     "name": "stdout",
     "output_type": "stream",
     "text": [
      "ans = -0.087401\n",
      "ans =  0.29002\n",
      "ans = -0.025348\n"
     ]
    }
   ],
   "source": [
    "myFunction(x_lower)\n",
    "myFunction(x_upper)\n",
    "\n",
    "myFunction(x_lower)*myFunction(x_upper)"
   ]
  },
  {
   "cell_type": "code",
   "execution_count": 4,
   "metadata": {},
   "outputs": [
    {
     "name": "stdout",
     "output_type": "stream",
     "text": [
      "After iteration 1 the root is 3.5\n",
      "\n",
      "After iteration 2 the root is 3.25\n",
      "Absolute relative error is :7.6923 %\n",
      "There is no significant digit.\n",
      "\n",
      "After iteration 3 the root is 3.125\n",
      "Absolute relative error is :4 %\n",
      "There is 1 significant digit.\n",
      "\n",
      "After iteration 4 the root is 3.1875\n",
      "Absolute relative error is :1.9608 %\n",
      "There is 1 significant digit.\n",
      "\n",
      "After iteration 5 the root is 3.2188\n",
      "Absolute relative error is :0.97087 %\n",
      "There is 1 significant digit.\n",
      "\n",
      "After iteration 6 the root is 3.2344\n",
      "Absolute relative error is :0.48309 %\n",
      "There is 2 significant digit.\n",
      "\n",
      "After iteration 7 the root is 3.2422\n",
      "Absolute relative error is :0.24096 %\n",
      "There is 2 significant digit.\n",
      "\n",
      "After iteration 8 the root is 3.2383\n",
      "Absolute relative error is :0.12063 %\n",
      "There is 2 significant digit.\n",
      "\n",
      "After iteration 9 the root is 3.2363\n",
      "Absolute relative error is :0.06035 %\n",
      "There is 2 significant digit.\n",
      "\n",
      "After iteration 10 the root is 3.2354\n",
      "Absolute relative error is :0.030184 %\n",
      "There is 3 significant digit.\n",
      "\n",
      "After iteration 11 the root is 3.2358\n",
      "Absolute relative error is :0.01509 %\n",
      "There is 3 significant digit.\n",
      "\n",
      "After iteration 12 the root is 3.2361\n",
      "Absolute relative error is :0.0075443 %\n",
      "There is 3 significant digit.\n",
      "\n",
      "After iteration 13 the root is 3.236\n",
      "Absolute relative error is :0.0037723 %\n",
      "There is 4 significant digit.\n",
      "\n",
      "After iteration 14 the root is 3.236\n",
      "Absolute relative error is :0.0018861 %\n",
      "There is 4 significant digit.\n",
      "\n",
      "After iteration 15 the root is 3.2361\n",
      "Absolute relative error is :0.00094305 %\n",
      "There is 4 significant digit.\n",
      "\n",
      "After iteration 16 the root is 3.2361\n",
      "Absolute relative error is :0.00047152 %\n",
      "There is 5 significant digit.\n",
      "\n",
      "After iteration 17 the root is 3.2361\n",
      "Absolute relative error is :0.00023576 %\n",
      "There is 5 significant digit.\n",
      "\n",
      "After iteration 18 the root is 3.2361\n",
      "Absolute relative error is :0.00011788 %\n",
      "There is 5 significant digit.\n",
      "\n",
      "After iteration 19 the root is 3.2361\n",
      "Absolute relative error is :5.894e-05 %\n",
      "There is 5 significant digit.\n",
      "\n",
      "After iteration 20 the root is 3.2361\n",
      "Absolute relative error is :2.947e-05 %\n",
      "There is 6 significant digit.\n",
      "\n"
     ]
    }
   ],
   "source": [
    "if myFunction(x_lower)*myFunction(x_upper)<0\n",
    "    x_mid = (x_lower+x_upper)/2;\n",
    "    iter = 1;\n",
    "    disp(['After iteration 1 ',  'the root is ', num2str(x_mid)])\n",
    "    disp([''])\n",
    "    while iter<20;\n",
    "        iter = iter +1;\n",
    "        x_old_mid = x_mid;\n",
    "         if myFunction(x_mid)*myFunction(x_upper)<0\n",
    "             x_lower=x_mid;\n",
    "         else \n",
    "             x_upper=x_mid;\n",
    "         endif\n",
    "        x_mid = (x_lower+x_upper)/2;\n",
    "        abs_error = (abs((x_mid - x_old_mid)/x_mid))*100;\n",
    "        disp(['After iteration ', num2str(iter), ' the root is ', num2str(x_mid)])\n",
    "        disp(['Absolute relative error is :', num2str(abs_error), ' %'])\n",
    "        \n",
    "        if abs_error>5\n",
    "            disp(['There is no significant digit.'])\n",
    "        endif\n",
    "        \n",
    "        if abs_error>0.5 && abs_error<=5\n",
    "            disp(['There is 1 significant digit.'])\n",
    "        endif\n",
    "        \n",
    "        if abs_error>0.05 && abs_error<=0.5\n",
    "            disp(['There is 2 significant digit.'])\n",
    "        endif\n",
    "        \n",
    "        if abs_error>0.005 && abs_error<=0.05\n",
    "            disp(['There is 3 significant digit.'])\n",
    "        endif\n",
    "        \n",
    "        if abs_error>0.0005 && abs_error<=0.005\n",
    "            disp(['There is 4 significant digit.'])\n",
    "        endif\n",
    "        \n",
    "        if abs_error>0.00005 && abs_error<=0.0005\n",
    "            disp(['There is 5 significant digit.'])\n",
    "        endif\n",
    "        \n",
    "        if abs_error>0.000005 && abs_error<=0.00005\n",
    "            disp(['There is 6 significant digit.'])\n",
    "        endif\n",
    "        \n",
    "        disp([''])\n",
    "        \n",
    "    endwhile\n",
    "else\n",
    "    disp(['There is no root between ', num2str(x_lower), ' and ', num2str(x_upper)])\n",
    "endif"
   ]
  },
  {
   "cell_type": "markdown",
   "metadata": {},
   "source": [
    "# That's all for today's lab!"
   ]
  }
 ],
 "metadata": {
  "kernelspec": {
   "display_name": "Octave",
   "language": "octave",
   "name": "octave"
  },
  "language_info": {
   "file_extension": ".m",
   "help_links": [
    {
     "text": "GNU Octave",
     "url": "https://www.gnu.org/software/octave/support.html"
    },
    {
     "text": "Octave Kernel",
     "url": "https://github.com/Calysto/octave_kernel"
    },
    {
     "text": "MetaKernel Magics",
     "url": "https://metakernel.readthedocs.io/en/latest/source/README.html"
    }
   ],
   "mimetype": "text/x-octave",
   "name": "octave",
   "version": "5.2.0"
  }
 },
 "nbformat": 4,
 "nbformat_minor": 4
}
