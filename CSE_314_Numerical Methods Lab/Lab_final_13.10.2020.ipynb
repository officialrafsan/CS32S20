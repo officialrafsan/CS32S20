{
 "cells": [
  {
   "cell_type": "markdown",
   "metadata": {},
   "source": [
    "<div class=\"alert alert-success\">\n",
    "    <b>Author</b>:\n",
    "\n",
    "      Rashik Rahman\n",
    "      17201012@uap-bd.edu\n",
    "\n",
    "</div>\n",
    "\n",
    "# Video Link : "
   ]
  },
  {
   "cell_type": "code",
   "execution_count": 12,
   "metadata": {},
   "outputs": [
    {
     "name": "stdout",
     "output_type": "stream",
     "text": [
      " The value of FDD is: -0.0051752 For X0\n",
      " The value of FDD is: -1.2828e-05 For X1\n",
      " The value of FDD is: -3.1798e-08 For X2\n"
     ]
    },
    {
     "data": {
      "image/png": "[encoded data removed]",
      "text/plain": [
       "<IPython.core.display.Image object>"
      ]
     },
     "metadata": {},
     "output_type": "display_data"
    }
   ],
   "source": [
    "%Author : Rashik Rahman(17201012)\n",
    "\n",
    "% Question 2, Set A : Use forward divided difference approximation of the first derivative of f(x) = 6e−3x+3 to calculate the \n",
    "%derivative at x0=2.12, x1, x2 with a step size of 2. Print the FDD result \n",
    "%and use plot function to display the values of x (i.e. x0, x1, x2) and their corresponding\n",
    "%values of y by x-axis and y-axis, respectively.\n",
    "\n",
    "\n",
    "\n",
    "\n",
    "function FDD(x,i)\n",
    "\n",
    "\n",
    "    delta_x = 2; % Step size\n",
    "    x2 = x + delta_x;\n",
    "\n",
    "    %f(x) = 6e^(−3x)+3\n",
    "    y2 = 6*e^(-3*x2)+3; % Here y2 is f(x+delta_x)\n",
    "    y1 = 6*e^(-3*x)+3; % Here y1is f(x)\n",
    "\n",
    "    FDD = (y2-y1)/delta_x;\n",
    "\n",
    "    disp([' The value of FDD is: ', num2str(FDD), ' For X', num2str(i)]);\n",
    "    \n",
    "endfunction\n",
    "\n",
    "FDD(2.12,0) %Function call of x0\n",
    "FDD(4.12,1) %Function call of x1\n",
    "FDD(6.12,2) %Function call of x2\n",
    "\n",
    "\n",
    "% Plotting x and y\n",
    "\n",
    "x = 2.12:2:6.12;\n",
    "y = 6*e.^(-3.*x)+3;\n",
    "plot(x,y)"
   ]
  },
  {
   "cell_type": "code",
   "execution_count": 13,
   "metadata": {},
   "outputs": [
    {
     "name": "stdout",
     "output_type": "stream",
     "text": [
      "    0.00000    3.00000        NaN        NaN\n",
      "    1.00000    3.07127    2.32064    1.00000\n",
      "    2.00000    3.10649    1.13368    1.00000\n",
      "    3.00000    3.12405    0.56203    1.00000\n",
      "    4.00000    3.13282    0.28003    2.00000\n",
      "    5.00000    3.13721    0.13979    2.00000\n",
      "    6.00000    3.13940    0.06984    2.00000\n",
      "    7.00000    3.14050    0.03491    3.00000\n",
      "    8.00000    3.14104    0.01745    3.00000\n",
      "    9.00000    3.14132    0.00873    3.00000\n",
      "   10.00000    3.14146    0.00436    4.00000\n"
     ]
    }
   ],
   "source": [
    "% Question 2, Set B : Use Newton-Raphson method to estimate the root of 4x3+7x+3 = e^x. Conduct 3 iterations with an initial guess 3. \n",
    "%Show the result in a 10×4 matrix that contains 4 columns such as: Iteration No., Root (xi), Absolute relative approximate error (|Ɛa|), and\n",
    "%No. of significant digits.\n",
    "\n",
    "ref =12; \n",
    "\n",
    "f = @(x) (4*x^3+7*x+3-e^x);\n",
    "fprime = @(x) (12*x^2+7-e^x);\n",
    "\n",
    "iter = 2;\n",
    "x_old = 3;\n",
    "matrix = zeros(10,4);\n",
    "matrix(1,1) = 0;\n",
    "matrix(1,2) = 3;\n",
    "matrix(1,3) = NaN;\n",
    "matrix(1,4) = NaN;\n",
    "\n",
    "while iter<=11\n",
    "    x_new = x_old - f(x_old)/fprime(x_old);\n",
    "    matrix(iter,1) = iter-1;\n",
    "    matrix(iter,2) = x_new;\n",
    "    \n",
    "    eror = abs((abs(x_new-x_old)/x_new)*100);\n",
    "    \n",
    "    matrix(iter,3) = eror;\n",
    "    sig = 0;\n",
    "    if eror>5\n",
    "        sig=0;\n",
    "    endif\n",
    "\n",
    "    if eror>0.5 && eror<=5\n",
    "        sig=1;\n",
    "    endif\n",
    "\n",
    "    if eror>0.05 && eror<=0.5\n",
    "        sig=2;\n",
    "    endif\n",
    "\n",
    "    if eror>0.005 && eror<=0.05\n",
    "        sig=3;\n",
    "    endif\n",
    "\n",
    "    if eror>0.0005 && eror<=0.005\n",
    "        sig=4;\n",
    "    endif\n",
    "\n",
    "    if eror>0.00005 && eror<=0.0005\n",
    "        sig=5;\n",
    "    endif\n",
    "\n",
    "    if eror>0.000005 && eror<=0.00005\n",
    "        sig=6;\n",
    "    endif\n",
    "    matrix(iter,4) = sig;\n",
    "    \n",
    "    x_old = x_new;\n",
    "    iter=iter+1;\n",
    "endwhile\n",
    "\n",
    "disp(matrix)\n",
    "    \n",
    "    "
   ]
  }
 ],
 "metadata": {
  "kernelspec": {
   "display_name": "Octave",
   "language": "octave",
   "name": "octave"
  },
  "language_info": {
   "file_extension": ".m",
   "help_links": [
    {
     "text": "GNU Octave",
     "url": "https://www.gnu.org/software/octave/support.html"
    },
    {
     "text": "Octave Kernel",
     "url": "https://github.com/Calysto/octave_kernel"
    },
    {
     "text": "MetaKernel Magics",
     "url": "https://metakernel.readthedocs.io/en/latest/source/README.html"
    }
   ],
   "mimetype": "text/x-octave",
   "name": "octave",
   "version": "5.2.0"
  }
 },
 "nbformat": 4,
 "nbformat_minor": 4
}
