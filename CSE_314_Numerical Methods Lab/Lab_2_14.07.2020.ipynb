{
 "cells": [
  {
   "cell_type": "markdown",
   "metadata": {},
   "source": [
    "<div class=\"alert alert-success\">\n",
    "    <b>Author</b>:\n",
    "\n",
    "      Rashik Rahman\n",
    "      17201012@uap-bd.edu\n",
    "\n",
    "</div>\n",
    "\n",
    "# Video Link : https://photos.app.goo.gl/qC3gD2VhsThJRYFu5"
   ]
  },
  {
   "cell_type": "code",
   "execution_count": 1,
   "metadata": {},
   "outputs": [
    {
     "name": "stdout",
     "output_type": "stream",
     "text": [
      "allMarks =\n",
      "\n",
      "   24   44   36\n",
      "   52   57   68\n",
      "   66   53   69\n",
      "   85   40   86\n",
      "   15   47   25\n",
      "   79   72   82\n",
      "\n"
     ]
    }
   ],
   "source": [
    "allMarks = [24 44 36;52 57 68;66 53 69;85 40 86;15 47 25;79 72 82]"
   ]
  },
  {
   "cell_type": "code",
   "execution_count": 6,
   "metadata": {},
   "outputs": [
    {
     "name": "stdout",
     "output_type": "stream",
     "text": [
      "mecha =\n",
      "\n",
      "   18.000   38.000   36.500   36.000   14.000   45.500\n",
      "\n"
     ]
    }
   ],
   "source": [
    "mecha = [36 76 73 72 28 91]*0.50"
   ]
  },
  {
   "cell_type": "code",
   "execution_count": 7,
   "metadata": {},
   "outputs": [
    {
     "name": "stdout",
     "output_type": "stream",
     "text": [
      "allMarks =\n",
      "\n",
      "   24.000   44.000   36.000   18.000\n",
      "   52.000   57.000   68.000   38.000\n",
      "   66.000   53.000   69.000   36.500\n",
      "   85.000   40.000   86.000   36.000\n",
      "   15.000   47.000   25.000   14.000\n",
      "   79.000   72.000   82.000   45.500\n",
      "\n"
     ]
    }
   ],
   "source": [
    "allMarks = [allMarks,mecha']"
   ]
  },
  {
   "cell_type": "code",
   "execution_count": 13,
   "metadata": {},
   "outputs": [
    {
     "name": "stdout",
     "output_type": "stream",
     "text": [
      "chetan =\n",
      "\n",
      "   66.000   53.000   69.000   36.500\n",
      "\n"
     ]
    }
   ],
   "source": [
    "chetan = allMarks(3,:)"
   ]
  },
  {
   "cell_type": "code",
   "execution_count": 30,
   "metadata": {},
   "outputs": [
    {
     "name": "stdout",
     "output_type": "stream",
     "text": [
      "chetan_total_score =  224.50\n"
     ]
    }
   ],
   "source": [
    "chetan_total_score = sum(chetan)"
   ]
  },
  {
   "cell_type": "code",
   "execution_count": 28,
   "metadata": {},
   "outputs": [
    {
     "name": "stdout",
     "output_type": "stream",
     "text": [
      "ans =\n",
      "\n",
      "   321   313   366   188\n",
      "\n"
     ]
    }
   ],
   "source": [
    "sum(allMarks,1) #summation of rows"
   ]
  },
  {
   "cell_type": "code",
   "execution_count": 31,
   "metadata": {},
   "outputs": [
    {
     "name": "stdout",
     "output_type": "stream",
     "text": [
      "ans =\n",
      "\n",
      "   122.00\n",
      "   215.00\n",
      "   224.50\n",
      "   247.00\n",
      "   101.00\n",
      "   278.50\n",
      "\n"
     ]
    }
   ],
   "source": [
    "sum(allMarks,2) #summation of columns"
   ]
  },
  {
   "cell_type": "code",
   "execution_count": 36,
   "metadata": {},
   "outputs": [
    {
     "name": "stdout",
     "output_type": "stream",
     "text": [
      "ans =\n",
      "\n",
      "   85   40   86\n",
      "   79   72   82\n",
      "\n"
     ]
    }
   ],
   "source": [
    "allMarks([4,6],1:3)"
   ]
  },
  {
   "cell_type": "code",
   "execution_count": 40,
   "metadata": {},
   "outputs": [
    {
     "name": "stdout",
     "output_type": "stream",
     "text": [
      "ans =\n",
      "\n",
      "   53.500   52.167   61.000   31.333\n",
      "\n"
     ]
    }
   ],
   "source": [
    "mean(allMarks) #calculate average marks obtained in each courses"
   ]
  },
  {
   "cell_type": "code",
   "execution_count": 39,
   "metadata": {},
   "outputs": [
    {
     "name": "stdout",
     "output_type": "stream",
     "text": [
      "ans =\n",
      "\n",
      "   30.500\n",
      "   53.750\n",
      "   56.125\n",
      "   61.750\n",
      "   25.250\n",
      "   69.625\n",
      "\n"
     ]
    }
   ],
   "source": [
    "mean(allMarks,2) #calculate average marks obtained by each student"
   ]
  },
  {
   "cell_type": "code",
   "execution_count": 46,
   "metadata": {},
   "outputs": [
    {
     "name": "stdout",
     "output_type": "stream",
     "text": [
      "to_drop =\n",
      "\n",
      "   24.000   44.000   36.000   18.000\n",
      "   52.000   57.000   68.000   38.000\n",
      "   66.000   53.000   69.000   36.500\n",
      "   85.000   40.000   86.000   36.000\n",
      "   15.000   47.000   25.000   14.000\n",
      "   79.000   72.000   82.000   45.500\n",
      "\n",
      "to_drop =\n",
      "\n",
      "   24   44   36\n",
      "   52   57   68\n",
      "   66   53   69\n",
      "   85   40   86\n",
      "   15   47   25\n",
      "   79   72   82\n",
      "\n"
     ]
    }
   ],
   "source": [
    "to_drop = allMarks\n",
    "to_drop(:,4)=[] #dropping a column"
   ]
  },
  {
   "cell_type": "code",
   "execution_count": 49,
   "metadata": {},
   "outputs": [
    {
     "name": "stdout",
     "output_type": "stream",
     "text": [
      "allMarks =\n",
      "\n",
      "   24   44   36   36\n",
      "   52   57   68   76\n",
      "   66   53   69   73\n",
      "   85   40   86   72\n",
      "   15   47   25   28\n",
      "   79   72   82   91\n",
      "\n"
     ]
    }
   ],
   "source": [
    "allMarks(:,4) = allMarks(:,4)*2"
   ]
  },
  {
   "cell_type": "code",
   "execution_count": 50,
   "metadata": {},
   "outputs": [
    {
     "name": "stdout",
     "output_type": "stream",
     "text": [
      "allMarks =\n",
      "\n",
      "   2.4000   4.4000   3.6000   3.6000\n",
      "   5.2000   5.7000   6.8000   7.6000\n",
      "   6.6000   5.3000   6.9000   7.3000\n",
      "   8.5000   4.0000   8.6000   7.2000\n",
      "   1.5000   4.7000   2.5000   2.8000\n",
      "   7.9000   7.2000   8.2000   9.1000\n",
      "\n"
     ]
    }
   ],
   "source": [
    "allMarks = allMarks*0.1"
   ]
  },
  {
   "cell_type": "code",
   "execution_count": 1,
   "metadata": {},
   "outputs": [
    {
     "name": "stdout",
     "output_type": "stream",
     "text": [
      "Fibonacci sequence:   0   1   1   2   3   \n"
     ]
    }
   ],
   "source": [
    "# Using for loop\n",
    "\n",
    "function fibo(n)\n",
    "    a=0;\n",
    "    b=1;\n",
    "    x=[0];\n",
    "    x(2)=[1];\n",
    "    for i=3:n\n",
    "        c=a+b;\n",
    "        x(i)=[c];\n",
    "        a=b;\n",
    "        b=c;\n",
    "    endfor\n",
    "    g=sprintf(\"%d   \",x);\n",
    "    fprintf(\"Fibonacci sequence:   %s\\n\",g)\n",
    "endfunction    \n",
    "\n",
    "a = 5;\n",
    "fibo(a)"
   ]
  },
  {
   "cell_type": "code",
   "execution_count": 2,
   "metadata": {},
   "outputs": [
    {
     "name": "stdout",
     "output_type": "stream",
     "text": [
      "Fibonacci sequence:   0   1   1   2   3   \n"
     ]
    }
   ],
   "source": [
    "# Using while loop\n",
    "function fibo(n)\n",
    "    a=0;\n",
    "    b=1;\n",
    "    x=[0];\n",
    "    x(2)=[1];\n",
    "    i=3;\n",
    "    while i<=n\n",
    "        c=a+b;\n",
    "        x(i)=[c];\n",
    "        a=b;\n",
    "        b=c;\n",
    "        i=i+1;\n",
    "    endwhile\n",
    "    g=sprintf(\"%d   \",x);\n",
    "    fprintf(\"Fibonacci sequence:   %s\\n\",g)\n",
    "    disp(['Fibonacci sequence:  ',num2str(x)])\n",
    "endfunction    \n",
    "\n",
    "a = 5;\n",
    "fibo(a)"
   ]
  },
  {
   "attachments": {
    "image.png": {
     "image/png": "[encoded data removed]"
    }
   },
   "cell_type": "markdown",
   "metadata": {},
   "source": [
    "![image.png](figures/fig6.PNG)"
   ]
  },
  {
   "cell_type": "code",
   "execution_count": 3,
   "metadata": {},
   "outputs": [
    {
     "name": "stdout",
     "output_type": "stream",
     "text": [
      "     1.00000     2.00000     2.00000     1.33333     0.66667\n",
      "     1.00000     3.00000     4.50000     4.50000     3.37500\n",
      "     1.00000     4.00000     8.00000    10.66667    10.66667\n",
      "     1.00000     5.00000    12.50000    20.83333    26.04167\n",
      "     1.00000     6.00000    18.00000    36.00000    54.00000\n",
      "     1.00000     7.00000    24.50000    57.16667   100.04167\n"
     ]
    }
   ],
   "source": [
    "# MacLaurin Series calculate this\n",
    "a=2;\n",
    "arr=[];\n",
    "j=1;\n",
    "for a=2:7\n",
    "    for i=0:4\n",
    "        temp=a^i;\n",
    "        maclaurin(i+1) = temp/factorial(i);\n",
    "    endfor\n",
    "\n",
    "    arr(j,:)=maclaurin;\n",
    "    j=j+1;\n",
    "\n",
    "endfor\n",
    "\n",
    "disp(arr)"
   ]
  },
  {
   "cell_type": "markdown",
   "metadata": {},
   "source": [
    "![image.png](figures/fig7.PNG)"
   ]
  },
  {
   "cell_type": "code",
   "execution_count": 7,
   "metadata": {},
   "outputs": [
    {
     "name": "stdout",
     "output_type": "stream",
     "text": [
      "At t = 0, location = 0\n",
      "At t = 0.1, location = 1.951\n",
      "At t = 0.2, location = 3.804\n",
      "At t = 0.3, location = 5.559\n",
      "At t = 0.4, location = 7.216\n",
      "At t = 0.5, location = 8.775\n",
      "At t = 0.6, location = 10.236\n",
      "At t = 0.7, location = 11.599\n",
      "At t = 0.8, location = 12.864\n",
      "At t = 0.9, location = 14.031\n",
      "At t = 1, location = 15.1\n",
      "At t = 1.1, location = 16.071\n",
      "At t = 1.2, location = 16.944\n",
      "At t = 1.3, location = 17.719\n",
      "At t = 1.4, location = 18.396\n",
      "At t = 1.5, location = 18.975\n",
      "At t = 1.6, location = 19.456\n",
      "At t = 1.7, location = 19.839\n",
      "At t = 1.8, location = 20.124\n",
      "At t = 1.9, location = 20.311\n",
      "At t = 2, location = 20.4\n",
      "At t = 2.1, location = 20.391\n",
      "At t = 2.2, location = 20.284\n",
      "At t = 2.3, location = 20.079\n",
      "At t = 2.4, location = 19.776\n",
      "At t = 2.5, location = 19.375\n",
      "At t = 2.6, location = 18.876\n",
      "At t = 2.7, location = 18.279\n",
      "At t = 2.8, location = 17.584\n",
      "At t = 2.9, location = 16.791\n",
      "At t = 3, location = 15.9\n",
      "At t = 3.1, location = 14.911\n",
      "At t = 3.2, location = 13.824\n",
      "At t = 3.3, location = 12.639\n",
      "At t = 3.4, location = 11.356\n",
      "At t = 3.5, location = 9.975\n",
      "At t = 3.6, location = 8.496\n",
      "At t = 3.7, location = 6.919\n",
      "At t = 3.8, location = 5.244\n",
      "At t = 3.9, location = 3.471\n",
      "At t = 4, location = 1.6\n"
     ]
    }
   ],
   "source": [
    "v0=20;\n",
    "g=9.8;\n",
    "y=0;\n",
    "t=0;\n",
    "\n",
    "while y>=0\n",
    "    y = v0*t - 0.5*g*t^2;\n",
    "    \n",
    "    if y<0\n",
    "        break;\n",
    "    endif\n",
    "    \n",
    "    disp(['At t = ',num2str(t),', location = ', num2str(y)])\n",
    "    t=t+0.1;\n",
    "endwhile"
   ]
  },
  {
   "cell_type": "markdown",
   "metadata": {},
   "source": [
    "# Thats all for this lab!"
   ]
  }
 ],
 "metadata": {
  "kernelspec": {
   "display_name": "Octave",
   "language": "octave",
   "name": "octave"
  },
  "language_info": {
   "file_extension": ".m",
   "help_links": [
    {
     "text": "GNU Octave",
     "url": "https://www.gnu.org/software/octave/support.html"
    },
    {
     "text": "Octave Kernel",
     "url": "https://github.com/Calysto/octave_kernel"
    },
    {
     "text": "MetaKernel Magics",
     "url": "https://metakernel.readthedocs.io/en/latest/source/README.html"
    }
   ],
   "mimetype": "text/x-octave",
   "name": "octave",
   "version": "5.2.0"
  }
 },
 "nbformat": 4,
 "nbformat_minor": 4
}
